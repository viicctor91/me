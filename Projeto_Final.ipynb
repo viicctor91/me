{
  "cells": [
    {
      "cell_type": "markdown",
      "metadata": {
        "id": "view-in-github",
        "colab_type": "text"
      },
      "source": [
        "<a href=\"https://colab.research.google.com/github/viicctor91/me.github.io/blob/main/Projeto_Final.ipynb\" target=\"_parent\"><img src=\"https://colab.research.google.com/assets/colab-badge.svg\" alt=\"Open In Colab\"/></a>"
      ]
    },
    {
      "cell_type": "markdown",
      "id": "6c982fec-a843-452c-95e5-4643a2c7c32a",
      "metadata": {
        "id": "6c982fec-a843-452c-95e5-4643a2c7c32a"
      },
      "source": [
        "# PROJETO FINAL"
      ]
    },
    {
      "cell_type": "code",
      "source": [
        "from google.colab import drive\n",
        "drive.mount('/content/drive')"
      ],
      "metadata": {
        "id": "4_r6IdlAzqpF",
        "colab": {
          "base_uri": "https://localhost:8080/"
        },
        "outputId": "84bc58ce-8305-430b-b9c3-8c66cc5a03b9"
      },
      "id": "4_r6IdlAzqpF",
      "execution_count": 1,
      "outputs": [
        {
          "output_type": "stream",
          "name": "stdout",
          "text": [
            "Mounted at /content/drive\n"
          ]
        }
      ]
    },
    {
      "cell_type": "code",
      "execution_count": 1,
      "id": "8a9eeccd-ed6f-4560-8d7b-5b11bbd87541",
      "metadata": {
        "id": "8a9eeccd-ed6f-4560-8d7b-5b11bbd87541",
        "tags": []
      },
      "outputs": [],
      "source": [
        "import pandas as pd\n",
        "import numpy as np\n",
        "import matplotlib.pyplot as plt\n",
        "import seaborn as sns\n",
        "import math\n",
        "from tqdm import tqdm\n",
        "import dask.dataframe as dd\n",
        "from dask.distributed import Client\n",
        "from sklearn.model_selection import train_test_split\n",
        "#from pandas_profiling import ProfileReport\n",
        "%matplotlib inline\n",
        "\n",
        "pd.set_option('display.max_columns', None)"
      ]
    },
    {
      "cell_type": "code",
      "execution_count": null,
      "id": "PqJ8F2G3K7kV",
      "metadata": {
        "id": "PqJ8F2G3K7kV"
      },
      "outputs": [],
      "source": [
        "# !pip install pandas_profiling"
      ]
    },
    {
      "cell_type": "code",
      "execution_count": null,
      "id": "TAn0QySVRDVp",
      "metadata": {
        "id": "TAn0QySVRDVp"
      },
      "outputs": [],
      "source": [
        "# pd.set_option('display.max_rows', None)\n",
        "# pd.reset_option('display.max_rows')"
      ]
    },
    {
      "cell_type": "code",
      "execution_count": 2,
      "id": "fa841517-f1cd-482c-b246-41595f3f2228",
      "metadata": {
        "id": "fa841517-f1cd-482c-b246-41595f3f2228",
        "tags": []
      },
      "outputs": [],
      "source": [
        "#lendo arquivos\n",
        "df_sales = pd.read_csv(\"/content/drive/MyDrive/ARQUIVOS TFM/item_sales.csv\")"
      ]
    },
    {
      "cell_type": "code",
      "source": [
        "df_prices = pd.read_csv(\"/content/drive/MyDrive/ARQUIVOS TFM/item_prices.csv\")"
      ],
      "metadata": {
        "id": "jeN8FXXblOtd"
      },
      "id": "jeN8FXXblOtd",
      "execution_count": 3,
      "outputs": []
    },
    {
      "cell_type": "code",
      "source": [
        "df_calendar = pd.read_csv(\"/content/drive/MyDrive/ARQUIVOS TFM/daily_calendar_with_events.csv\")"
      ],
      "metadata": {
        "id": "4RVuB5oXlSYt"
      },
      "id": "4RVuB5oXlSYt",
      "execution_count": 4,
      "outputs": []
    },
    {
      "cell_type": "markdown",
      "id": "c2bc76fc-ec57-4e9a-96c6-7e00550cb8ed",
      "metadata": {
        "id": "c2bc76fc-ec57-4e9a-96c6-7e00550cb8ed"
      },
      "source": [
        "-------"
      ]
    },
    {
      "cell_type": "markdown",
      "id": "ab595983-0f0e-463d-b993-faf9aa5cd580",
      "metadata": {
        "id": "ab595983-0f0e-463d-b993-faf9aa5cd580"
      },
      "source": [
        "### Dicionário de dados"
      ]
    },
    {
      "cell_type": "markdown",
      "id": "0514190f-2eb3-4e99-96da-50ecd3586d7e",
      "metadata": {
        "id": "0514190f-2eb3-4e99-96da-50ecd3586d7e"
      },
      "source": [
        "File 1 – daily_calendar_with_events.csv\n",
        "\n",
        "| Name | Description |\n",
        "| --- | --- |\n",
        "| date | date in y-m-d format |\n",
        "| weekday |\tday of the week |\n",
        "| weekday_int |\tnumeric day of the week (Saturday day 1, Friday day 7) |\n",
        "| d\t| day identifier |\n",
        "| event | if the date includes an event, the name of this event (only a few are included) |"
      ]
    },
    {
      "cell_type": "markdown",
      "id": "a11c6f61-fa2f-47fc-9ce4-fbc5e93521ba",
      "metadata": {
        "id": "a11c6f61-fa2f-47fc-9ce4-fbc5e93521ba"
      },
      "source": [
        "File 2 – item_prices.csv\n",
        "\n",
        "| Name | Description |\n",
        "| --- | --- |\n",
        "| item | product id |\n",
        "| category | product category |\n",
        "| store_code | alphanumeric code of the store |\n",
        "| yearweek | date period for the price (year-week format) |\n",
        "| sell_price |\tprice for the product “item” for the period in “yearweek”. * |\n",
        "\n",
        "* Prices are provided per week (average across 7 days). If not available, there were no sales for the product during that week ludes an event, the name of this event (only a few are included)."
      ]
    },
    {
      "cell_type": "markdown",
      "id": "24a5af9e-4e83-4478-b0e5-895228393be4",
      "metadata": {
        "id": "24a5af9e-4e83-4478-b0e5-895228393be4"
      },
      "source": [
        "File 3 – item_sales.csv\n",
        "\n",
        "| Name | Description |\n",
        "| --- | --- |\n",
        "| id | sales series id (combination of item + store_code) |\n",
        "| item | product id |\n",
        "| category | product category |\n",
        "| department | department id (different identifier for different stores) |\n",
        "| store | store name |\n",
        "| store_code | store id |\n",
        "| region | region |\n",
        "| d_1,d_2,d_... | number of units sold per day |"
      ]
    },
    {
      "cell_type": "markdown",
      "id": "c5b093af-104d-4cd2-8586-51c96542b087",
      "metadata": {
        "id": "c5b093af-104d-4cd2-8586-51c96542b087"
      },
      "source": [
        "------"
      ]
    },
    {
      "cell_type": "markdown",
      "id": "4bef0c67-0468-4b5f-af1c-d4959052fdcc",
      "metadata": {
        "id": "4bef0c67-0468-4b5f-af1c-d4959052fdcc"
      },
      "source": [
        "# Item Prices"
      ]
    },
    {
      "cell_type": "markdown",
      "id": "6ec1857d-cbf0-436d-a33a-47acb97c4fbc",
      "metadata": {
        "id": "6ec1857d-cbf0-436d-a33a-47acb97c4fbc"
      },
      "source": [
        "## Pré-processamento e exploração de dados"
      ]
    },
    {
      "cell_type": "code",
      "execution_count": null,
      "id": "1171cbc5-0cb2-43a2-8141-c3fbbdd4f71a",
      "metadata": {
        "id": "1171cbc5-0cb2-43a2-8141-c3fbbdd4f71a"
      },
      "outputs": [],
      "source": [
        "#Monstra Colonas do datafrane item_prices\n",
        "cols_df_price = pd.DataFrame(df_prices.columns, columns=['Column Names'])\n",
        "\n",
        "display(cols_df_price)"
      ]
    },
    {
      "cell_type": "code",
      "execution_count": null,
      "id": "215ff213-c11b-4ae4-adaf-1b42b168daea",
      "metadata": {
        "id": "215ff213-c11b-4ae4-adaf-1b42b168daea"
      },
      "outputs": [],
      "source": [
        "# Primeiras cinco linhas do df\n",
        "df_prices.head().T"
      ]
    },
    {
      "cell_type": "code",
      "execution_count": null,
      "id": "e38c18f1-8a8d-4349-b8bd-f0f17b48facc",
      "metadata": {
        "id": "e38c18f1-8a8d-4349-b8bd-f0f17b48facc"
      },
      "outputs": [],
      "source": [
        "# Cinco ultimas linhas\n",
        "df_prices.tail().T"
      ]
    },
    {
      "cell_type": "code",
      "execution_count": 17,
      "id": "e4ee34ad-2a2e-439d-8d3b-f113059dd6ad",
      "metadata": {
        "id": "e4ee34ad-2a2e-439d-8d3b-f113059dd6ad",
        "colab": {
          "base_uri": "https://localhost:8080/"
        },
        "outputId": "45002643-86ac-49c4-8f92-b1a145217866"
      },
      "outputs": [
        {
          "output_type": "execute_result",
          "data": {
            "text/plain": [
              "(6721786, 5)"
            ]
          },
          "metadata": {},
          "execution_count": 17
        }
      ],
      "source": [
        "# Dimensão do df\n",
        "df_prices.shape"
      ]
    },
    {
      "cell_type": "code",
      "execution_count": 18,
      "id": "ef32888c-6eaf-43ba-b1b7-adfd394cede8",
      "metadata": {
        "id": "ef32888c-6eaf-43ba-b1b7-adfd394cede8",
        "colab": {
          "base_uri": "https://localhost:8080/"
        },
        "outputId": "0d6e38f0-f7ef-4f45-dfea-8a19a8371267"
      },
      "outputs": [
        {
          "output_type": "execute_result",
          "data": {
            "text/plain": [
              "item           object\n",
              "category       object\n",
              "store_code     object\n",
              "yearweek        int64\n",
              "sell_price    float64\n",
              "dtype: object"
            ]
          },
          "metadata": {},
          "execution_count": 18
        }
      ],
      "source": [
        "df_prices.dtypes"
      ]
    },
    {
      "cell_type": "code",
      "execution_count": null,
      "id": "231401ae-c930-4773-bfb9-b797095e61db",
      "metadata": {
        "id": "231401ae-c930-4773-bfb9-b797095e61db"
      },
      "outputs": [],
      "source": [
        "df_prices.describe()"
      ]
    },
    {
      "cell_type": "code",
      "execution_count": null,
      "id": "a8c57053-c592-4f36-89e8-9e9cb94cb6f2",
      "metadata": {
        "id": "a8c57053-c592-4f36-89e8-9e9cb94cb6f2"
      },
      "outputs": [],
      "source": [
        "df_prices.info(verbose=True)"
      ]
    },
    {
      "cell_type": "code",
      "execution_count": null,
      "id": "5aaab6e6-becc-4cfa-a01f-bbd5261f754e",
      "metadata": {
        "id": "5aaab6e6-becc-4cfa-a01f-bbd5261f754e"
      },
      "outputs": [],
      "source": [
        "#verificando valores em falta\n",
        "soma_missings_por_coluna = df_prices.isnull().sum()\n",
        "soma_missings_por_coluna"
      ]
    },
    {
      "cell_type": "markdown",
      "id": "385c693f-dd46-405e-aa33-8d4186cf243c",
      "metadata": {
        "id": "385c693f-dd46-405e-aa33-8d4186cf243c"
      },
      "source": [
        "### Tratamento da coluna Yearweek"
      ]
    },
    {
      "cell_type": "code",
      "execution_count": 5,
      "id": "6f7454c9-0e51-44b0-b788-9ae1593c1cc0",
      "metadata": {
        "colab": {
          "base_uri": "https://localhost:8080/"
        },
        "id": "6f7454c9-0e51-44b0-b788-9ae1593c1cc0",
        "outputId": "0773d596-8ab7-42ee-bf6f-f1a4a4635bc8"
      },
      "outputs": [
        {
          "output_type": "stream",
          "name": "stdout",
          "text": [
            "                        item       category store_code yearweek  sell_price\n",
            "5539160    SUPERMARKET_3_702    SUPERMARKET      PHI_1   201105      3.9360\n",
            "6613947  HOME_&_GARDEN_2_445  HOME_&_GARDEN      PHI_3   201105      8.1000\n",
            "261069   HOME_&_GARDEN_2_041  HOME_&_GARDEN      NYC_1   201105      6.5875\n",
            "1516539  HOME_&_GARDEN_1_117  HOME_&_GARDEN      NYC_3   201105     11.2125\n",
            "563249     SUPERMARKET_3_188    SUPERMARKET      NYC_1   201105      2.3760\n",
            "...                      ...            ...        ...      ...         ...\n",
            "2386874  HOME_&_GARDEN_2_338  HOME_&_GARDEN      NYC_4   201617      6.1500\n",
            "2387152  HOME_&_GARDEN_2_339  HOME_&_GARDEN      NYC_4   201617      8.0750\n",
            "6156810    SUPERMARKET_3_382    SUPERMARKET      PHI_2   201617      2.1360\n",
            "2386079  HOME_&_GARDEN_2_334  HOME_&_GARDEN      NYC_4   201617      3.7250\n",
            "6965697    SUPERMARKET_3_827    SUPERMARKET      PHI_3   201617      1.2000\n",
            "\n",
            "[6721786 rows x 5 columns]\n"
          ]
        }
      ],
      "source": [
        "# Convertendo a coluna 'yearweek' para o tipo string\n",
        "df_prices['yearweek'] = df_prices['yearweek'].astype(str)\n",
        "\n",
        "# Remover linhas com valores vazios na coluna 'yearweek'\n",
        "df_prices.dropna(subset=['yearweek'], inplace=True)\n",
        "\n",
        "# Elimine as linhas que contenham a string 'nan' na coluna 'yearweek'\n",
        "df_prices = df_prices[~df_prices['yearweek'].isin(['nan'])]\n",
        "\n",
        "# Mantenha apenas os 6 primeiros caracteres na coluna 'yearweek'\n",
        "df_prices['yearweek'] = df_prices['yearweek'].str.slice(0, 6)\n",
        "\n",
        "# Ordenando o dataframe pela coluna yearweek\n",
        "df_prices.sort_values('yearweek', inplace=True)\n",
        "\n",
        "# Exiba o DataFrame reordenado\n",
        "print(df_prices)"
      ]
    },
    {
      "cell_type": "code",
      "execution_count": null,
      "id": "9df3a76c-7cd1-485d-8711-a9f8be8aec0e",
      "metadata": {
        "id": "9df3a76c-7cd1-485d-8711-a9f8be8aec0e"
      },
      "outputs": [],
      "source": [
        "# Verificando se ainda existe valores nulos no df\n",
        "df_prices.isnull().sum()/len(df_prices)*100"
      ]
    },
    {
      "cell_type": "code",
      "execution_count": null,
      "id": "301fe306-c501-4291-85f9-01a279d66dc7",
      "metadata": {
        "id": "301fe306-c501-4291-85f9-01a279d66dc7"
      },
      "outputs": [],
      "source": [
        "#verificando valores duplicador no df\n",
        "df_prices.duplicated().sum()/len(df_prices)*100"
      ]
    },
    {
      "cell_type": "markdown",
      "id": "69129726-a516-4956-8ab3-f9ada54c26c7",
      "metadata": {
        "id": "69129726-a516-4956-8ab3-f9ada54c26c7"
      },
      "source": [
        "### Função para observar cada coluna do df"
      ]
    },
    {
      "cell_type": "code",
      "execution_count": 6,
      "id": "a3bdbac3-b24e-43d9-b359-8ee5fd61ea59",
      "metadata": {
        "id": "a3bdbac3-b24e-43d9-b359-8ee5fd61ea59",
        "tags": []
      },
      "outputs": [],
      "source": [
        "def Price_func(data, column, count=True):\n",
        "    unique_values = data[column].unique()\n",
        "    null_count = data[column].isnull().sum()\n",
        "    value_counts = data[column].value_counts()\n",
        "\n",
        "    print(f'Quantidade de valores únicos: {len(unique_values)}')\n",
        "    print(f'\\nQuais são os valores únicos: {unique_values}')\n",
        "    print(f'\\nQuantidade de valores nulos: {null_count}')\n",
        "    print(f'\\nQuantidade por opção: \\n{value_counts}')"
      ]
    },
    {
      "cell_type": "markdown",
      "id": "e0ba0af1-ac6a-413d-8db4-169096ecfc11",
      "metadata": {
        "id": "e0ba0af1-ac6a-413d-8db4-169096ecfc11"
      },
      "source": [
        "#### Coluna Item"
      ]
    },
    {
      "cell_type": "code",
      "execution_count": null,
      "id": "f6498c06-15dd-4110-a80f-890e16cf788b",
      "metadata": {
        "id": "f6498c06-15dd-4110-a80f-890e16cf788b",
        "colab": {
          "base_uri": "https://localhost:8080/"
        },
        "outputId": "b1a20d55-4d82-4120-a9c1-d4f584e7bc30"
      },
      "outputs": [
        {
          "output_type": "stream",
          "name": "stdout",
          "text": [
            "Quantidade de valores únicos: 3049\n",
            "\n",
            "Quais são os valores únicos: ['SUPERMARKET_3_702' 'HOME_&_GARDEN_2_445' 'HOME_&_GARDEN_2_041' ...\n",
            " 'SUPERMARKET_3_647' 'SUPERMARKET_3_038' 'HOME_&_GARDEN_1_159']\n",
            "\n",
            "Quantidade de valores nulos: 0\n",
            "\n",
            "Quantidade por opção: \n",
            "SUPERMARKET_3_702      2790\n",
            "HOME_&_GARDEN_1_234    2790\n",
            "ACCESORIES_1_194       2790\n",
            "SUPERMARKET_1_168      2790\n",
            "SUPERMARKET_3_590      2790\n",
            "                       ... \n",
            "HOME_&_GARDEN_1_308     572\n",
            "HOME_&_GARDEN_1_159     553\n",
            "HOME_&_GARDEN_1_242     530\n",
            "SUPERMARKET_3_296       522\n",
            "SUPERMARKET_2_379       463\n",
            "Name: item, Length: 3049, dtype: int64\n"
          ]
        }
      ],
      "source": [
        "Price_func(df_prices, 'item')"
      ]
    },
    {
      "cell_type": "markdown",
      "id": "da46b01a-c34d-43d6-9f24-d2e102cbcf49",
      "metadata": {
        "id": "da46b01a-c34d-43d6-9f24-d2e102cbcf49"
      },
      "source": [
        "#### Coluna Category"
      ]
    },
    {
      "cell_type": "code",
      "execution_count": null,
      "id": "549b4054-c885-452a-aa51-6d1813e7a6ee",
      "metadata": {
        "id": "549b4054-c885-452a-aa51-6d1813e7a6ee"
      },
      "outputs": [],
      "source": [
        "Price_func(df_prices, 'category')"
      ]
    },
    {
      "cell_type": "markdown",
      "id": "97dc79ce-e2d0-4948-b57d-faa1a57af7c6",
      "metadata": {
        "id": "97dc79ce-e2d0-4948-b57d-faa1a57af7c6"
      },
      "source": [
        "#### Coluna Store_code"
      ]
    },
    {
      "cell_type": "code",
      "execution_count": 7,
      "id": "16a036c6-0b75-4994-ae75-bbdcdeff1770",
      "metadata": {
        "id": "16a036c6-0b75-4994-ae75-bbdcdeff1770",
        "tags": [],
        "colab": {
          "base_uri": "https://localhost:8080/"
        },
        "outputId": "81ff9596-1f60-4ad3-caff-e5cfbf3db609"
      },
      "outputs": [
        {
          "output_type": "stream",
          "name": "stdout",
          "text": [
            "Quantidade de valores únicos: 10\n",
            "\n",
            "Quais são os valores únicos: ['PHI_1' 'PHI_3' 'NYC_1' 'NYC_3' 'BOS_3' 'BOS_1' 'PHI_2' 'BOS_2' 'NYC_4'\n",
            " 'NYC_2']\n",
            "\n",
            "Quantidade de valores nulos: 0\n",
            "\n",
            "Quantidade por opção: \n",
            "BOS_2    689568\n",
            "BOS_1    688135\n",
            "NYC_1    686681\n",
            "PHI_3    684355\n",
            "NYC_3    682193\n",
            "BOS_3    679290\n",
            "NYC_4    666983\n",
            "PHI_2    666154\n",
            "PHI_1    653817\n",
            "NYC_2    624610\n",
            "Name: store_code, dtype: int64\n"
          ]
        }
      ],
      "source": [
        "Price_func(df_prices, 'store_code')"
      ]
    },
    {
      "cell_type": "markdown",
      "id": "bbff9f28-1d34-49ae-bee4-a317730f0d39",
      "metadata": {
        "id": "bbff9f28-1d34-49ae-bee4-a317730f0d39"
      },
      "source": [
        "#### Coluna Yearweek"
      ]
    },
    {
      "cell_type": "code",
      "execution_count": null,
      "id": "bc33ba1b-a5c7-4d55-8bd8-b9da9d0ad62a",
      "metadata": {
        "id": "bc33ba1b-a5c7-4d55-8bd8-b9da9d0ad62a"
      },
      "outputs": [],
      "source": [
        "Price_func(df_prices, 'yearweek')"
      ]
    },
    {
      "cell_type": "markdown",
      "id": "32ba417d-9001-4ccb-8800-5a40eb241152",
      "metadata": {
        "id": "32ba417d-9001-4ccb-8800-5a40eb241152"
      },
      "source": [
        "#### Coluna Sell_price"
      ]
    },
    {
      "cell_type": "code",
      "execution_count": null,
      "id": "6522f7c9-a728-4b26-ad7d-de60d321004a",
      "metadata": {
        "id": "6522f7c9-a728-4b26-ad7d-de60d321004a",
        "colab": {
          "base_uri": "https://localhost:8080/"
        },
        "outputId": "0772cfd9-a534-449d-a23b-cc59c57686dd"
      },
      "outputs": [
        {
          "output_type": "stream",
          "name": "stdout",
          "text": [
            "Quantidade de valores únicos: 1860\n",
            "\n",
            "Quais são os valores únicos: [ 3.936   8.1     6.5875 ... 18.05   34.5268  8.5519]\n",
            "\n",
            "Quantidade de valores nulos: 0\n",
            "\n",
            "Quantidade por opção: \n",
            "2.3760     213714\n",
            "3.5760     208588\n",
            "3.0000     182471\n",
            "1.2000     145538\n",
            "4.7760     137539\n",
            "            ...  \n",
            "0.7500          1\n",
            "65.7750         1\n",
            "3.5910          1\n",
            "0.4522          1\n",
            "8.5519          1\n",
            "Name: sell_price, Length: 1860, dtype: int64\n"
          ]
        }
      ],
      "source": [
        "Price_func(df_prices, 'sell_price')"
      ]
    },
    {
      "cell_type": "markdown",
      "source": [
        "### Certificar-se de que todos os valores na coluna sell_price sejam do tipo float.\n",
        "###  Arredondar a coluna sell_price para duas casas decimais."
      ],
      "metadata": {
        "id": "EcsjCARKjnB-"
      },
      "id": "EcsjCARKjnB-"
    },
    {
      "cell_type": "code",
      "source": [
        "# 1. Certificar-se de que todos os valores na coluna sell_price sejam do tipo float\n",
        "df_prices['sell_price'] = df_prices['sell_price'].astype(float)\n",
        "\n",
        "# 2. Arredondar a coluna sell_price para duas casas decimais\n",
        "df_prices['sell_price'] = df_prices['sell_price'].round(2)\n"
      ],
      "metadata": {
        "id": "FExAsTuojlcE"
      },
      "id": "FExAsTuojlcE",
      "execution_count": 8,
      "outputs": []
    },
    {
      "cell_type": "code",
      "execution_count": 8,
      "id": "4b9fad4d-5eb5-472d-a930-874d16710536",
      "metadata": {
        "id": "4b9fad4d-5eb5-472d-a930-874d16710536",
        "colab": {
          "base_uri": "https://localhost:8080/"
        },
        "outputId": "52c92cf7-4a3e-4243-fbc3-fc80bb204fe5"
      },
      "outputs": [
        {
          "output_type": "stream",
          "name": "stdout",
          "text": [
            "                   mean  median       std\n",
            "category                                 \n",
            "ACCESORIES     7.084556    5.28  6.407341\n",
            "HOME_&_GARDEN  6.831656    6.18  4.215563\n",
            "SUPERMARKET    3.899546    3.22  2.555709\n"
          ]
        }
      ],
      "source": [
        "price_stats = df_prices.groupby(\"category\")[\"sell_price\"].agg([\"mean\", \"median\", \"std\"])\n",
        "print(price_stats)"
      ]
    },
    {
      "cell_type": "code",
      "execution_count": 10,
      "id": "24752b46-1a83-4e7c-9e2f-96769d19e1f5",
      "metadata": {
        "id": "24752b46-1a83-4e7c-9e2f-96769d19e1f5",
        "colab": {
          "base_uri": "https://localhost:8080/",
          "height": 206
        },
        "outputId": "27d272ad-0d96-4dba-fdf9-e4c100a2827d"
      },
      "outputs": [
        {
          "output_type": "execute_result",
          "data": {
            "text/plain": [
              "                        item       category store_code yearweek  sell_price\n",
              "5539160    SUPERMARKET_3_702    SUPERMARKET      PHI_1   201105        3.94\n",
              "6613947  HOME_&_GARDEN_2_445  HOME_&_GARDEN      PHI_3   201105        8.10\n",
              "261069   HOME_&_GARDEN_2_041  HOME_&_GARDEN      NYC_1   201105        6.59\n",
              "1516539  HOME_&_GARDEN_1_117  HOME_&_GARDEN      NYC_3   201105       11.21\n",
              "563249     SUPERMARKET_3_188    SUPERMARKET      NYC_1   201105        2.38"
            ],
            "text/html": [
              "\n",
              "  <div id=\"df-210e6f34-be8b-4c55-bf2d-3a2f649e2bb9\" class=\"colab-df-container\">\n",
              "    <div>\n",
              "<style scoped>\n",
              "    .dataframe tbody tr th:only-of-type {\n",
              "        vertical-align: middle;\n",
              "    }\n",
              "\n",
              "    .dataframe tbody tr th {\n",
              "        vertical-align: top;\n",
              "    }\n",
              "\n",
              "    .dataframe thead th {\n",
              "        text-align: right;\n",
              "    }\n",
              "</style>\n",
              "<table border=\"1\" class=\"dataframe\">\n",
              "  <thead>\n",
              "    <tr style=\"text-align: right;\">\n",
              "      <th></th>\n",
              "      <th>item</th>\n",
              "      <th>category</th>\n",
              "      <th>store_code</th>\n",
              "      <th>yearweek</th>\n",
              "      <th>sell_price</th>\n",
              "    </tr>\n",
              "  </thead>\n",
              "  <tbody>\n",
              "    <tr>\n",
              "      <th>5539160</th>\n",
              "      <td>SUPERMARKET_3_702</td>\n",
              "      <td>SUPERMARKET</td>\n",
              "      <td>PHI_1</td>\n",
              "      <td>201105</td>\n",
              "      <td>3.94</td>\n",
              "    </tr>\n",
              "    <tr>\n",
              "      <th>6613947</th>\n",
              "      <td>HOME_&amp;_GARDEN_2_445</td>\n",
              "      <td>HOME_&amp;_GARDEN</td>\n",
              "      <td>PHI_3</td>\n",
              "      <td>201105</td>\n",
              "      <td>8.10</td>\n",
              "    </tr>\n",
              "    <tr>\n",
              "      <th>261069</th>\n",
              "      <td>HOME_&amp;_GARDEN_2_041</td>\n",
              "      <td>HOME_&amp;_GARDEN</td>\n",
              "      <td>NYC_1</td>\n",
              "      <td>201105</td>\n",
              "      <td>6.59</td>\n",
              "    </tr>\n",
              "    <tr>\n",
              "      <th>1516539</th>\n",
              "      <td>HOME_&amp;_GARDEN_1_117</td>\n",
              "      <td>HOME_&amp;_GARDEN</td>\n",
              "      <td>NYC_3</td>\n",
              "      <td>201105</td>\n",
              "      <td>11.21</td>\n",
              "    </tr>\n",
              "    <tr>\n",
              "      <th>563249</th>\n",
              "      <td>SUPERMARKET_3_188</td>\n",
              "      <td>SUPERMARKET</td>\n",
              "      <td>NYC_1</td>\n",
              "      <td>201105</td>\n",
              "      <td>2.38</td>\n",
              "    </tr>\n",
              "  </tbody>\n",
              "</table>\n",
              "</div>\n",
              "    <div class=\"colab-df-buttons\">\n",
              "\n",
              "  <div class=\"colab-df-container\">\n",
              "    <button class=\"colab-df-convert\" onclick=\"convertToInteractive('df-210e6f34-be8b-4c55-bf2d-3a2f649e2bb9')\"\n",
              "            title=\"Convert this dataframe to an interactive table.\"\n",
              "            style=\"display:none;\">\n",
              "\n",
              "  <svg xmlns=\"http://www.w3.org/2000/svg\" height=\"24px\" viewBox=\"0 -960 960 960\">\n",
              "    <path d=\"M120-120v-720h720v720H120Zm60-500h600v-160H180v160Zm220 220h160v-160H400v160Zm0 220h160v-160H400v160ZM180-400h160v-160H180v160Zm440 0h160v-160H620v160ZM180-180h160v-160H180v160Zm440 0h160v-160H620v160Z\"/>\n",
              "  </svg>\n",
              "    </button>\n",
              "\n",
              "  <style>\n",
              "    .colab-df-container {\n",
              "      display:flex;\n",
              "      gap: 12px;\n",
              "    }\n",
              "\n",
              "    .colab-df-convert {\n",
              "      background-color: #E8F0FE;\n",
              "      border: none;\n",
              "      border-radius: 50%;\n",
              "      cursor: pointer;\n",
              "      display: none;\n",
              "      fill: #1967D2;\n",
              "      height: 32px;\n",
              "      padding: 0 0 0 0;\n",
              "      width: 32px;\n",
              "    }\n",
              "\n",
              "    .colab-df-convert:hover {\n",
              "      background-color: #E2EBFA;\n",
              "      box-shadow: 0px 1px 2px rgba(60, 64, 67, 0.3), 0px 1px 3px 1px rgba(60, 64, 67, 0.15);\n",
              "      fill: #174EA6;\n",
              "    }\n",
              "\n",
              "    .colab-df-buttons div {\n",
              "      margin-bottom: 4px;\n",
              "    }\n",
              "\n",
              "    [theme=dark] .colab-df-convert {\n",
              "      background-color: #3B4455;\n",
              "      fill: #D2E3FC;\n",
              "    }\n",
              "\n",
              "    [theme=dark] .colab-df-convert:hover {\n",
              "      background-color: #434B5C;\n",
              "      box-shadow: 0px 1px 3px 1px rgba(0, 0, 0, 0.15);\n",
              "      filter: drop-shadow(0px 1px 2px rgba(0, 0, 0, 0.3));\n",
              "      fill: #FFFFFF;\n",
              "    }\n",
              "  </style>\n",
              "\n",
              "    <script>\n",
              "      const buttonEl =\n",
              "        document.querySelector('#df-210e6f34-be8b-4c55-bf2d-3a2f649e2bb9 button.colab-df-convert');\n",
              "      buttonEl.style.display =\n",
              "        google.colab.kernel.accessAllowed ? 'block' : 'none';\n",
              "\n",
              "      async function convertToInteractive(key) {\n",
              "        const element = document.querySelector('#df-210e6f34-be8b-4c55-bf2d-3a2f649e2bb9');\n",
              "        const dataTable =\n",
              "          await google.colab.kernel.invokeFunction('convertToInteractive',\n",
              "                                                    [key], {});\n",
              "        if (!dataTable) return;\n",
              "\n",
              "        const docLinkHtml = 'Like what you see? Visit the ' +\n",
              "          '<a target=\"_blank\" href=https://colab.research.google.com/notebooks/data_table.ipynb>data table notebook</a>'\n",
              "          + ' to learn more about interactive tables.';\n",
              "        element.innerHTML = '';\n",
              "        dataTable['output_type'] = 'display_data';\n",
              "        await google.colab.output.renderOutput(dataTable, element);\n",
              "        const docLink = document.createElement('div');\n",
              "        docLink.innerHTML = docLinkHtml;\n",
              "        element.appendChild(docLink);\n",
              "      }\n",
              "    </script>\n",
              "  </div>\n",
              "\n",
              "\n",
              "<div id=\"df-aee8ecfc-37db-4fe2-9edd-d2d88d28ab64\">\n",
              "  <button class=\"colab-df-quickchart\" onclick=\"quickchart('df-aee8ecfc-37db-4fe2-9edd-d2d88d28ab64')\"\n",
              "            title=\"Suggest charts.\"\n",
              "            style=\"display:none;\">\n",
              "\n",
              "<svg xmlns=\"http://www.w3.org/2000/svg\" height=\"24px\"viewBox=\"0 0 24 24\"\n",
              "     width=\"24px\">\n",
              "    <g>\n",
              "        <path d=\"M19 3H5c-1.1 0-2 .9-2 2v14c0 1.1.9 2 2 2h14c1.1 0 2-.9 2-2V5c0-1.1-.9-2-2-2zM9 17H7v-7h2v7zm4 0h-2V7h2v10zm4 0h-2v-4h2v4z\"/>\n",
              "    </g>\n",
              "</svg>\n",
              "  </button>\n",
              "\n",
              "<style>\n",
              "  .colab-df-quickchart {\n",
              "    background-color: #E8F0FE;\n",
              "    border: none;\n",
              "    border-radius: 50%;\n",
              "    cursor: pointer;\n",
              "    display: none;\n",
              "    fill: #1967D2;\n",
              "    height: 32px;\n",
              "    padding: 0 0 0 0;\n",
              "    width: 32px;\n",
              "  }\n",
              "\n",
              "  .colab-df-quickchart:hover {\n",
              "    background-color: #E2EBFA;\n",
              "    box-shadow: 0px 1px 2px rgba(60, 64, 67, 0.3), 0px 1px 3px 1px rgba(60, 64, 67, 0.15);\n",
              "    fill: #174EA6;\n",
              "  }\n",
              "\n",
              "  [theme=dark] .colab-df-quickchart {\n",
              "    background-color: #3B4455;\n",
              "    fill: #D2E3FC;\n",
              "  }\n",
              "\n",
              "  [theme=dark] .colab-df-quickchart:hover {\n",
              "    background-color: #434B5C;\n",
              "    box-shadow: 0px 1px 3px 1px rgba(0, 0, 0, 0.15);\n",
              "    filter: drop-shadow(0px 1px 2px rgba(0, 0, 0, 0.3));\n",
              "    fill: #FFFFFF;\n",
              "  }\n",
              "</style>\n",
              "\n",
              "  <script>\n",
              "    async function quickchart(key) {\n",
              "      const charts = await google.colab.kernel.invokeFunction(\n",
              "          'suggestCharts', [key], {});\n",
              "    }\n",
              "    (() => {\n",
              "      let quickchartButtonEl =\n",
              "        document.querySelector('#df-aee8ecfc-37db-4fe2-9edd-d2d88d28ab64 button');\n",
              "      quickchartButtonEl.style.display =\n",
              "        google.colab.kernel.accessAllowed ? 'block' : 'none';\n",
              "    })();\n",
              "  </script>\n",
              "</div>\n",
              "    </div>\n",
              "  </div>\n"
            ]
          },
          "metadata": {},
          "execution_count": 10
        }
      ],
      "source": [
        "df_prices.head()"
      ]
    },
    {
      "cell_type": "markdown",
      "id": "89d60be8-a41c-4a95-a622-7a741e405bc0",
      "metadata": {
        "id": "89d60be8-a41c-4a95-a622-7a741e405bc0"
      },
      "source": [
        "# Item Sales"
      ]
    },
    {
      "cell_type": "markdown",
      "id": "e755eef1-f8d5-4dc6-a802-7741abe9921a",
      "metadata": {
        "id": "e755eef1-f8d5-4dc6-a802-7741abe9921a"
      },
      "source": [
        "## Pré-processamento e exploração de dados"
      ]
    },
    {
      "cell_type": "code",
      "execution_count": null,
      "id": "e23bafcc-c3db-4347-8e75-85e80919642e",
      "metadata": {
        "id": "e23bafcc-c3db-4347-8e75-85e80919642e",
        "outputId": "62985090-ccaa-40da-d137-b9f7b4094e0a"
      },
      "outputs": [
        {
          "data": {
            "text/html": [
              "<div>\n",
              "<style scoped>\n",
              "    .dataframe tbody tr th:only-of-type {\n",
              "        vertical-align: middle;\n",
              "    }\n",
              "\n",
              "    .dataframe tbody tr th {\n",
              "        vertical-align: top;\n",
              "    }\n",
              "\n",
              "    .dataframe thead th {\n",
              "        text-align: right;\n",
              "    }\n",
              "</style>\n",
              "<table border=\"1\" class=\"dataframe\">\n",
              "  <thead>\n",
              "    <tr style=\"text-align: right;\">\n",
              "      <th></th>\n",
              "      <th>Column Names</th>\n",
              "    </tr>\n",
              "  </thead>\n",
              "  <tbody>\n",
              "    <tr>\n",
              "      <th>0</th>\n",
              "      <td>id</td>\n",
              "    </tr>\n",
              "    <tr>\n",
              "      <th>1</th>\n",
              "      <td>item</td>\n",
              "    </tr>\n",
              "    <tr>\n",
              "      <th>2</th>\n",
              "      <td>category</td>\n",
              "    </tr>\n",
              "    <tr>\n",
              "      <th>3</th>\n",
              "      <td>department</td>\n",
              "    </tr>\n",
              "    <tr>\n",
              "      <th>4</th>\n",
              "      <td>store</td>\n",
              "    </tr>\n",
              "    <tr>\n",
              "      <th>...</th>\n",
              "      <td>...</td>\n",
              "    </tr>\n",
              "    <tr>\n",
              "      <th>1915</th>\n",
              "      <td>d_1909</td>\n",
              "    </tr>\n",
              "    <tr>\n",
              "      <th>1916</th>\n",
              "      <td>d_1910</td>\n",
              "    </tr>\n",
              "    <tr>\n",
              "      <th>1917</th>\n",
              "      <td>d_1911</td>\n",
              "    </tr>\n",
              "    <tr>\n",
              "      <th>1918</th>\n",
              "      <td>d_1912</td>\n",
              "    </tr>\n",
              "    <tr>\n",
              "      <th>1919</th>\n",
              "      <td>d_1913</td>\n",
              "    </tr>\n",
              "  </tbody>\n",
              "</table>\n",
              "<p>1920 rows × 1 columns</p>\n",
              "</div>"
            ],
            "text/plain": [
              "     Column Names\n",
              "0              id\n",
              "1            item\n",
              "2        category\n",
              "3      department\n",
              "4           store\n",
              "...           ...\n",
              "1915       d_1909\n",
              "1916       d_1910\n",
              "1917       d_1911\n",
              "1918       d_1912\n",
              "1919       d_1913\n",
              "\n",
              "[1920 rows x 1 columns]"
            ]
          },
          "metadata": {},
          "output_type": "display_data"
        }
      ],
      "source": [
        "cols_df_sales = pd.DataFrame(df_sales.columns, columns=['Column Names'])\n",
        "\n",
        "display(cols_df_sales)"
      ]
    },
    {
      "cell_type": "code",
      "execution_count": null,
      "id": "a75d652e-1873-427e-8bad-48fd71b19fda",
      "metadata": {
        "id": "a75d652e-1873-427e-8bad-48fd71b19fda"
      },
      "outputs": [],
      "source": [
        "#primeiras 5 linhas do df_sales\n",
        "df_sales.head()"
      ]
    },
    {
      "cell_type": "code",
      "execution_count": null,
      "id": "c56946a3-5e58-4be1-a160-af33b8a9f8ff",
      "metadata": {
        "id": "c56946a3-5e58-4be1-a160-af33b8a9f8ff"
      },
      "outputs": [],
      "source": [
        "# Cinco ultimas linhas\n",
        "df_sales.tail()"
      ]
    },
    {
      "cell_type": "code",
      "execution_count": null,
      "id": "80aa3f13-a468-4a3e-8be4-f00008c07f3b",
      "metadata": {
        "id": "80aa3f13-a468-4a3e-8be4-f00008c07f3b"
      },
      "outputs": [],
      "source": [
        "df_sales.shape"
      ]
    },
    {
      "cell_type": "code",
      "execution_count": null,
      "id": "d319bf74-570a-48de-814a-ca7b34e67241",
      "metadata": {
        "id": "d319bf74-570a-48de-814a-ca7b34e67241"
      },
      "outputs": [],
      "source": [
        "df_sales.dtypes"
      ]
    },
    {
      "cell_type": "code",
      "execution_count": null,
      "id": "2d75cd84-b4a8-4ff6-9742-9fc148fded64",
      "metadata": {
        "id": "2d75cd84-b4a8-4ff6-9742-9fc148fded64"
      },
      "outputs": [],
      "source": [
        "df_sales.describe()"
      ]
    },
    {
      "cell_type": "code",
      "execution_count": null,
      "id": "955c7302-4a09-4022-88e2-aaef90abf11f",
      "metadata": {
        "id": "955c7302-4a09-4022-88e2-aaef90abf11f"
      },
      "outputs": [],
      "source": [
        "#df_sales.info(verbose=True)"
      ]
    },
    {
      "cell_type": "code",
      "execution_count": null,
      "id": "ab0a60d8-27f6-4af4-8264-6246df785c56",
      "metadata": {
        "id": "ab0a60d8-27f6-4af4-8264-6246df785c56",
        "outputId": "80eaaf99-2a3d-41c5-cb6c-8d3e54c8b1c8"
      },
      "outputs": [
        {
          "data": {
            "text/plain": [
              "id            0\n",
              "item          0\n",
              "category      0\n",
              "department    0\n",
              "store         0\n",
              "             ..\n",
              "d_1909        0\n",
              "d_1910        0\n",
              "d_1911        0\n",
              "d_1912        0\n",
              "d_1913        0\n",
              "Length: 1920, dtype: int64"
            ]
          },
          "execution_count": 5,
          "metadata": {},
          "output_type": "execute_result"
        }
      ],
      "source": [
        "#verificando valores em falta\n",
        "soma_missings_por_coluna = df_sales.isnull().sum()\n",
        "soma_missings_por_coluna"
      ]
    },
    {
      "cell_type": "markdown",
      "id": "54d8c5bd-03a7-475e-b433-2b33ff87c205",
      "metadata": {
        "id": "54d8c5bd-03a7-475e-b433-2b33ff87c205",
        "tags": []
      },
      "source": [
        "### Separando o item Sales por dados Categoricos"
      ]
    },
    {
      "cell_type": "code",
      "execution_count": null,
      "id": "86ebd879-3459-48cc-85b6-6a00597359ac",
      "metadata": {
        "colab": {
          "base_uri": "https://localhost:8080/",
          "height": 423
        },
        "id": "86ebd879-3459-48cc-85b6-6a00597359ac",
        "outputId": "10525923-3a0e-462f-f7f3-0975035617b0"
      },
      "outputs": [
        {
          "data": {
            "text/html": [
              "\n",
              "\n",
              "  <div id=\"df-21555d57-25de-4f10-83db-4aa16abbf381\">\n",
              "    <div class=\"colab-df-container\">\n",
              "      <div>\n",
              "<style scoped>\n",
              "    .dataframe tbody tr th:only-of-type {\n",
              "        vertical-align: middle;\n",
              "    }\n",
              "\n",
              "    .dataframe tbody tr th {\n",
              "        vertical-align: top;\n",
              "    }\n",
              "\n",
              "    .dataframe thead th {\n",
              "        text-align: right;\n",
              "    }\n",
              "</style>\n",
              "<table border=\"1\" class=\"dataframe\">\n",
              "  <thead>\n",
              "    <tr style=\"text-align: right;\">\n",
              "      <th></th>\n",
              "      <th>id</th>\n",
              "      <th>item</th>\n",
              "      <th>category</th>\n",
              "      <th>department</th>\n",
              "      <th>store</th>\n",
              "      <th>store_code</th>\n",
              "      <th>region</th>\n",
              "    </tr>\n",
              "  </thead>\n",
              "  <tbody>\n",
              "    <tr>\n",
              "      <th>0</th>\n",
              "      <td>ACCESORIES_1_001_NYC_1</td>\n",
              "      <td>ACCESORIES_1_001</td>\n",
              "      <td>ACCESORIES</td>\n",
              "      <td>ACCESORIES_1</td>\n",
              "      <td>Greenwich_Village</td>\n",
              "      <td>NYC_1</td>\n",
              "      <td>New York</td>\n",
              "    </tr>\n",
              "    <tr>\n",
              "      <th>1</th>\n",
              "      <td>ACCESORIES_1_002_NYC_1</td>\n",
              "      <td>ACCESORIES_1_002</td>\n",
              "      <td>ACCESORIES</td>\n",
              "      <td>ACCESORIES_1</td>\n",
              "      <td>Greenwich_Village</td>\n",
              "      <td>NYC_1</td>\n",
              "      <td>New York</td>\n",
              "    </tr>\n",
              "    <tr>\n",
              "      <th>2</th>\n",
              "      <td>ACCESORIES_1_003_NYC_1</td>\n",
              "      <td>ACCESORIES_1_003</td>\n",
              "      <td>ACCESORIES</td>\n",
              "      <td>ACCESORIES_1</td>\n",
              "      <td>Greenwich_Village</td>\n",
              "      <td>NYC_1</td>\n",
              "      <td>New York</td>\n",
              "    </tr>\n",
              "    <tr>\n",
              "      <th>3</th>\n",
              "      <td>ACCESORIES_1_004_NYC_1</td>\n",
              "      <td>ACCESORIES_1_004</td>\n",
              "      <td>ACCESORIES</td>\n",
              "      <td>ACCESORIES_1</td>\n",
              "      <td>Greenwich_Village</td>\n",
              "      <td>NYC_1</td>\n",
              "      <td>New York</td>\n",
              "    </tr>\n",
              "    <tr>\n",
              "      <th>4</th>\n",
              "      <td>ACCESORIES_1_005_NYC_1</td>\n",
              "      <td>ACCESORIES_1_005</td>\n",
              "      <td>ACCESORIES</td>\n",
              "      <td>ACCESORIES_1</td>\n",
              "      <td>Greenwich_Village</td>\n",
              "      <td>NYC_1</td>\n",
              "      <td>New York</td>\n",
              "    </tr>\n",
              "    <tr>\n",
              "      <th>...</th>\n",
              "      <td>...</td>\n",
              "      <td>...</td>\n",
              "      <td>...</td>\n",
              "      <td>...</td>\n",
              "      <td>...</td>\n",
              "      <td>...</td>\n",
              "      <td>...</td>\n",
              "    </tr>\n",
              "    <tr>\n",
              "      <th>1319</th>\n",
              "      <td>HOME_&amp;_GARDEN_2_224_NYC_1</td>\n",
              "      <td>HOME_&amp;_GARDEN_2_224</td>\n",
              "      <td>HOME_&amp;_GARDEN</td>\n",
              "      <td>HOME_&amp;_GARDEN_2</td>\n",
              "      <td>Greenwich_Village</td>\n",
              "      <td>NYC_1</td>\n",
              "      <td>New York</td>\n",
              "    </tr>\n",
              "    <tr>\n",
              "      <th>1320</th>\n",
              "      <td>HOME_&amp;_GARDEN_2_225_NYC_1</td>\n",
              "      <td>HOME_&amp;_GARDEN_2_225</td>\n",
              "      <td>HOME_&amp;_GARDEN</td>\n",
              "      <td>HOME_&amp;_GARDEN_2</td>\n",
              "      <td>Greenwich_Village</td>\n",
              "      <td>NYC_1</td>\n",
              "      <td>New York</td>\n",
              "    </tr>\n",
              "    <tr>\n",
              "      <th>1321</th>\n",
              "      <td>HOME_&amp;_GARDEN_2_226_NYC_1</td>\n",
              "      <td>HOME_&amp;_GARDEN_2_226</td>\n",
              "      <td>HOME_&amp;_GARDEN</td>\n",
              "      <td>HOME_&amp;_GARDEN_2</td>\n",
              "      <td>Greenwich_Village</td>\n",
              "      <td>NYC_1</td>\n",
              "      <td>New York</td>\n",
              "    </tr>\n",
              "    <tr>\n",
              "      <th>1322</th>\n",
              "      <td>HOME_&amp;_GARDEN_2_227_NYC_1</td>\n",
              "      <td>HOME_&amp;_GARDEN_2_227</td>\n",
              "      <td>HOME_&amp;_GARDEN</td>\n",
              "      <td>HOME_&amp;_GARDEN_2</td>\n",
              "      <td>Greenwich_Village</td>\n",
              "      <td>NYC_1</td>\n",
              "      <td>New York</td>\n",
              "    </tr>\n",
              "    <tr>\n",
              "      <th>1323</th>\n",
              "      <td>HOME_&amp;_GARDEN_2_228_NYC_1</td>\n",
              "      <td>HOME_&amp;_GARDEN_2_228</td>\n",
              "      <td>HOME_&amp;_GARDEN</td>\n",
              "      <td>HOME_&amp;_GARDEN_2</td>\n",
              "      <td>Greenwich_Village</td>\n",
              "      <td>NYC_1</td>\n",
              "      <td>New York</td>\n",
              "    </tr>\n",
              "  </tbody>\n",
              "</table>\n",
              "<p>1324 rows × 7 columns</p>\n",
              "</div>\n",
              "      <button class=\"colab-df-convert\" onclick=\"convertToInteractive('df-21555d57-25de-4f10-83db-4aa16abbf381')\"\n",
              "              title=\"Convert this dataframe to an interactive table.\"\n",
              "              style=\"display:none;\">\n",
              "\n",
              "  <svg xmlns=\"http://www.w3.org/2000/svg\" height=\"24px\"viewBox=\"0 0 24 24\"\n",
              "       width=\"24px\">\n",
              "    <path d=\"M0 0h24v24H0V0z\" fill=\"none\"/>\n",
              "    <path d=\"M18.56 5.44l.94 2.06.94-2.06 2.06-.94-2.06-.94-.94-2.06-.94 2.06-2.06.94zm-11 1L8.5 8.5l.94-2.06 2.06-.94-2.06-.94L8.5 2.5l-.94 2.06-2.06.94zm10 10l.94 2.06.94-2.06 2.06-.94-2.06-.94-.94-2.06-.94 2.06-2.06.94z\"/><path d=\"M17.41 7.96l-1.37-1.37c-.4-.4-.92-.59-1.43-.59-.52 0-1.04.2-1.43.59L10.3 9.45l-7.72 7.72c-.78.78-.78 2.05 0 2.83L4 21.41c.39.39.9.59 1.41.59.51 0 1.02-.2 1.41-.59l7.78-7.78 2.81-2.81c.8-.78.8-2.07 0-2.86zM5.41 20L4 18.59l7.72-7.72 1.47 1.35L5.41 20z\"/>\n",
              "  </svg>\n",
              "      </button>\n",
              "\n",
              "\n",
              "\n",
              "    <div id=\"df-044f47d3-467d-47f8-9b3c-d3495d2cb422\">\n",
              "      <button class=\"colab-df-quickchart\" onclick=\"quickchart('df-044f47d3-467d-47f8-9b3c-d3495d2cb422')\"\n",
              "              title=\"Suggest charts.\"\n",
              "              style=\"display:none;\">\n",
              "\n",
              "<svg xmlns=\"http://www.w3.org/2000/svg\" height=\"24px\"viewBox=\"0 0 24 24\"\n",
              "     width=\"24px\">\n",
              "    <g>\n",
              "        <path d=\"M19 3H5c-1.1 0-2 .9-2 2v14c0 1.1.9 2 2 2h14c1.1 0 2-.9 2-2V5c0-1.1-.9-2-2-2zM9 17H7v-7h2v7zm4 0h-2V7h2v10zm4 0h-2v-4h2v4z\"/>\n",
              "    </g>\n",
              "</svg>\n",
              "      </button>\n",
              "    </div>\n",
              "\n",
              "<style>\n",
              "  .colab-df-quickchart {\n",
              "    background-color: #E8F0FE;\n",
              "    border: none;\n",
              "    border-radius: 50%;\n",
              "    cursor: pointer;\n",
              "    display: none;\n",
              "    fill: #1967D2;\n",
              "    height: 32px;\n",
              "    padding: 0 0 0 0;\n",
              "    width: 32px;\n",
              "  }\n",
              "\n",
              "  .colab-df-quickchart:hover {\n",
              "    background-color: #E2EBFA;\n",
              "    box-shadow: 0px 1px 2px rgba(60, 64, 67, 0.3), 0px 1px 3px 1px rgba(60, 64, 67, 0.15);\n",
              "    fill: #174EA6;\n",
              "  }\n",
              "\n",
              "  [theme=dark] .colab-df-quickchart {\n",
              "    background-color: #3B4455;\n",
              "    fill: #D2E3FC;\n",
              "  }\n",
              "\n",
              "  [theme=dark] .colab-df-quickchart:hover {\n",
              "    background-color: #434B5C;\n",
              "    box-shadow: 0px 1px 3px 1px rgba(0, 0, 0, 0.15);\n",
              "    filter: drop-shadow(0px 1px 2px rgba(0, 0, 0, 0.3));\n",
              "    fill: #FFFFFF;\n",
              "  }\n",
              "</style>\n",
              "\n",
              "    <script>\n",
              "      async function quickchart(key) {\n",
              "        const containerElement = document.querySelector('#' + key);\n",
              "        const charts = await google.colab.kernel.invokeFunction(\n",
              "            'suggestCharts', [key], {});\n",
              "      }\n",
              "    </script>\n",
              "\n",
              "\n",
              "      <script>\n",
              "\n",
              "function displayQuickchartButton(domScope) {\n",
              "  let quickchartButtonEl =\n",
              "    domScope.querySelector('#df-044f47d3-467d-47f8-9b3c-d3495d2cb422 button.colab-df-quickchart');\n",
              "  quickchartButtonEl.style.display =\n",
              "    google.colab.kernel.accessAllowed ? 'block' : 'none';\n",
              "}\n",
              "\n",
              "        displayQuickchartButton(document);\n",
              "      </script>\n",
              "      <style>\n",
              "    .colab-df-container {\n",
              "      display:flex;\n",
              "      flex-wrap:wrap;\n",
              "      gap: 12px;\n",
              "    }\n",
              "\n",
              "    .colab-df-convert {\n",
              "      background-color: #E8F0FE;\n",
              "      border: none;\n",
              "      border-radius: 50%;\n",
              "      cursor: pointer;\n",
              "      display: none;\n",
              "      fill: #1967D2;\n",
              "      height: 32px;\n",
              "      padding: 0 0 0 0;\n",
              "      width: 32px;\n",
              "    }\n",
              "\n",
              "    .colab-df-convert:hover {\n",
              "      background-color: #E2EBFA;\n",
              "      box-shadow: 0px 1px 2px rgba(60, 64, 67, 0.3), 0px 1px 3px 1px rgba(60, 64, 67, 0.15);\n",
              "      fill: #174EA6;\n",
              "    }\n",
              "\n",
              "    [theme=dark] .colab-df-convert {\n",
              "      background-color: #3B4455;\n",
              "      fill: #D2E3FC;\n",
              "    }\n",
              "\n",
              "    [theme=dark] .colab-df-convert:hover {\n",
              "      background-color: #434B5C;\n",
              "      box-shadow: 0px 1px 3px 1px rgba(0, 0, 0, 0.15);\n",
              "      filter: drop-shadow(0px 1px 2px rgba(0, 0, 0, 0.3));\n",
              "      fill: #FFFFFF;\n",
              "    }\n",
              "  </style>\n",
              "\n",
              "      <script>\n",
              "        const buttonEl =\n",
              "          document.querySelector('#df-21555d57-25de-4f10-83db-4aa16abbf381 button.colab-df-convert');\n",
              "        buttonEl.style.display =\n",
              "          google.colab.kernel.accessAllowed ? 'block' : 'none';\n",
              "\n",
              "        async function convertToInteractive(key) {\n",
              "          const element = document.querySelector('#df-21555d57-25de-4f10-83db-4aa16abbf381');\n",
              "          const dataTable =\n",
              "            await google.colab.kernel.invokeFunction('convertToInteractive',\n",
              "                                                     [key], {});\n",
              "          if (!dataTable) return;\n",
              "\n",
              "          const docLinkHtml = 'Like what you see? Visit the ' +\n",
              "            '<a target=\"_blank\" href=https://colab.research.google.com/notebooks/data_table.ipynb>data table notebook</a>'\n",
              "            + ' to learn more about interactive tables.';\n",
              "          element.innerHTML = '';\n",
              "          dataTable['output_type'] = 'display_data';\n",
              "          await google.colab.output.renderOutput(dataTable, element);\n",
              "          const docLink = document.createElement('div');\n",
              "          docLink.innerHTML = docLinkHtml;\n",
              "          element.appendChild(docLink);\n",
              "        }\n",
              "      </script>\n",
              "    </div>\n",
              "  </div>\n"
            ],
            "text/plain": [
              "                             id                 item       category  \\\n",
              "0        ACCESORIES_1_001_NYC_1     ACCESORIES_1_001     ACCESORIES   \n",
              "1        ACCESORIES_1_002_NYC_1     ACCESORIES_1_002     ACCESORIES   \n",
              "2        ACCESORIES_1_003_NYC_1     ACCESORIES_1_003     ACCESORIES   \n",
              "3        ACCESORIES_1_004_NYC_1     ACCESORIES_1_004     ACCESORIES   \n",
              "4        ACCESORIES_1_005_NYC_1     ACCESORIES_1_005     ACCESORIES   \n",
              "...                         ...                  ...            ...   \n",
              "1319  HOME_&_GARDEN_2_224_NYC_1  HOME_&_GARDEN_2_224  HOME_&_GARDEN   \n",
              "1320  HOME_&_GARDEN_2_225_NYC_1  HOME_&_GARDEN_2_225  HOME_&_GARDEN   \n",
              "1321  HOME_&_GARDEN_2_226_NYC_1  HOME_&_GARDEN_2_226  HOME_&_GARDEN   \n",
              "1322  HOME_&_GARDEN_2_227_NYC_1  HOME_&_GARDEN_2_227  HOME_&_GARDEN   \n",
              "1323  HOME_&_GARDEN_2_228_NYC_1  HOME_&_GARDEN_2_228  HOME_&_GARDEN   \n",
              "\n",
              "           department              store store_code    region  \n",
              "0        ACCESORIES_1  Greenwich_Village      NYC_1  New York  \n",
              "1        ACCESORIES_1  Greenwich_Village      NYC_1  New York  \n",
              "2        ACCESORIES_1  Greenwich_Village      NYC_1  New York  \n",
              "3        ACCESORIES_1  Greenwich_Village      NYC_1  New York  \n",
              "4        ACCESORIES_1  Greenwich_Village      NYC_1  New York  \n",
              "...               ...                ...        ...       ...  \n",
              "1319  HOME_&_GARDEN_2  Greenwich_Village      NYC_1  New York  \n",
              "1320  HOME_&_GARDEN_2  Greenwich_Village      NYC_1  New York  \n",
              "1321  HOME_&_GARDEN_2  Greenwich_Village      NYC_1  New York  \n",
              "1322  HOME_&_GARDEN_2  Greenwich_Village      NYC_1  New York  \n",
              "1323  HOME_&_GARDEN_2  Greenwich_Village      NYC_1  New York  \n",
              "\n",
              "[1324 rows x 7 columns]"
            ]
          },
          "execution_count": 7,
          "metadata": {},
          "output_type": "execute_result"
        }
      ],
      "source": [
        "df_sales_cat = df_sales.iloc[:,0:7]\n",
        "df_sales_cat"
      ]
    },
    {
      "cell_type": "markdown",
      "id": "ae47608c-b8f8-43fa-a7da-eb4784d11b3a",
      "metadata": {
        "id": "ae47608c-b8f8-43fa-a7da-eb4784d11b3a"
      },
      "source": [
        "### Separando o item Sales por dados Numericos"
      ]
    },
    {
      "cell_type": "code",
      "execution_count": null,
      "id": "a0d6fcd6-b76c-4448-bb7e-393a927e3a09",
      "metadata": {
        "id": "a0d6fcd6-b76c-4448-bb7e-393a927e3a09"
      },
      "outputs": [],
      "source": [
        "#df_units_pday = df_sales.iloc[:, 7:].T.reset_index().rename(columns={\"index\": \"d\"})\n",
        "#df_units_pday"
      ]
    },
    {
      "cell_type": "markdown",
      "id": "e15fe6c8-c7de-49dd-ad04-41138b582764",
      "metadata": {
        "id": "e15fe6c8-c7de-49dd-ad04-41138b582764"
      },
      "source": [
        "### Função para observar cada coluna do df"
      ]
    },
    {
      "cell_type": "code",
      "execution_count": null,
      "id": "c11d8eec-4de3-41dc-b342-a71aad526af2",
      "metadata": {
        "id": "c11d8eec-4de3-41dc-b342-a71aad526af2"
      },
      "outputs": [],
      "source": [
        "def sales_func(data, column, count=True):\n",
        "    unique_values = data[column].unique()\n",
        "    null_count = data[column].isnull().sum()\n",
        "    value_counts = data[column].value_counts()\n",
        "\n",
        "    print(f'Quantidade de valores únicos: {len(unique_values)}')\n",
        "    print(f'\\nQuais são os valores únicos: {unique_values}')\n",
        "    print(f'\\nQuantidade de valores nulos: {null_count}')\n",
        "    print(f'\\nQuantidade por opção: \\n{value_counts}')"
      ]
    },
    {
      "cell_type": "markdown",
      "id": "eee9890d-4ce0-48dd-b791-18cf1f5683a3",
      "metadata": {
        "id": "eee9890d-4ce0-48dd-b791-18cf1f5683a3"
      },
      "source": [
        "#### Coluna id"
      ]
    },
    {
      "cell_type": "code",
      "execution_count": null,
      "id": "0e21bc4d-ecd7-4563-9777-2daaee1c352e",
      "metadata": {
        "id": "0e21bc4d-ecd7-4563-9777-2daaee1c352e"
      },
      "outputs": [],
      "source": [
        "sales_func(df_sales_cat, 'id')"
      ]
    },
    {
      "cell_type": "markdown",
      "id": "0fc11e78-7b6b-41dd-bfaa-48eb30b760e8",
      "metadata": {
        "id": "0fc11e78-7b6b-41dd-bfaa-48eb30b760e8"
      },
      "source": [
        "#### Coluna item"
      ]
    },
    {
      "cell_type": "code",
      "execution_count": null,
      "id": "905da885-9ce4-4b38-a974-aba8a7bfb19e",
      "metadata": {
        "id": "905da885-9ce4-4b38-a974-aba8a7bfb19e"
      },
      "outputs": [],
      "source": [
        "sales_func(df_sales_cat, 'item')"
      ]
    },
    {
      "cell_type": "code",
      "source": [],
      "metadata": {
        "id": "RlHnhAZoMqKz"
      },
      "id": "RlHnhAZoMqKz",
      "execution_count": null,
      "outputs": []
    },
    {
      "cell_type": "code",
      "execution_count": null,
      "id": "5d2dfe12-9645-4e00-a5d0-c27c623bce62",
      "metadata": {
        "id": "5d2dfe12-9645-4e00-a5d0-c27c623bce62"
      },
      "outputs": [],
      "source": [
        "sales_func(df_sales_cat, 'category')"
      ]
    },
    {
      "cell_type": "code",
      "source": [],
      "metadata": {
        "id": "0HsCKcoNMqyZ"
      },
      "id": "0HsCKcoNMqyZ",
      "execution_count": null,
      "outputs": []
    },
    {
      "cell_type": "code",
      "execution_count": null,
      "id": "f1a95bdb-b58c-48b1-b48b-999a41715b5d",
      "metadata": {
        "id": "f1a95bdb-b58c-48b1-b48b-999a41715b5d"
      },
      "outputs": [],
      "source": [
        "sales_func(df_sales_cat, 'department')"
      ]
    },
    {
      "cell_type": "code",
      "source": [],
      "metadata": {
        "id": "h-Hr7XrPMr15"
      },
      "id": "h-Hr7XrPMr15",
      "execution_count": null,
      "outputs": []
    },
    {
      "cell_type": "code",
      "execution_count": null,
      "id": "3319c501-aa29-4851-ad27-d958c7a9263b",
      "metadata": {
        "id": "3319c501-aa29-4851-ad27-d958c7a9263b"
      },
      "outputs": [],
      "source": [
        "sales_func(df_sales_cat, 'store')"
      ]
    },
    {
      "cell_type": "code",
      "source": [],
      "metadata": {
        "id": "F0JB7seSMse4"
      },
      "id": "F0JB7seSMse4",
      "execution_count": null,
      "outputs": []
    },
    {
      "cell_type": "code",
      "execution_count": null,
      "id": "32bc1616-62ca-46de-b088-9403ea905dfd",
      "metadata": {
        "id": "32bc1616-62ca-46de-b088-9403ea905dfd"
      },
      "outputs": [],
      "source": [
        "sales_func(df_sales_cat, 'store_code')"
      ]
    },
    {
      "cell_type": "code",
      "source": [],
      "metadata": {
        "id": "SYuCEBgfMuGJ"
      },
      "id": "SYuCEBgfMuGJ",
      "execution_count": null,
      "outputs": []
    },
    {
      "cell_type": "code",
      "execution_count": null,
      "id": "d0505a6c-85ce-4625-b6af-d15cdc3987ab",
      "metadata": {
        "id": "d0505a6c-85ce-4625-b6af-d15cdc3987ab"
      },
      "outputs": [],
      "source": [
        "sales_func(df_sales_cat, 'region')"
      ]
    },
    {
      "cell_type": "code",
      "source": [],
      "metadata": {
        "id": "4wmP5IPwMuj1"
      },
      "id": "4wmP5IPwMuj1",
      "execution_count": null,
      "outputs": []
    },
    {
      "cell_type": "code",
      "execution_count": null,
      "id": "f971a1cc-d979-4fdf-8824-18b89732e90a",
      "metadata": {
        "id": "f971a1cc-d979-4fdf-8824-18b89732e90a",
        "scrolled": true,
        "tags": []
      },
      "outputs": [],
      "source": [
        "df_group = df_sales.groupby(\"region\")[\"store_code\"].value_counts()\n",
        "print(df_group)"
      ]
    },
    {
      "cell_type": "code",
      "execution_count": null,
      "id": "389e8d0d-b77b-4000-9991-bb1ea2e27442",
      "metadata": {
        "id": "389e8d0d-b77b-4000-9991-bb1ea2e27442"
      },
      "outputs": [],
      "source": [
        "df_sales['department'].unique()"
      ]
    },
    {
      "cell_type": "code",
      "execution_count": null,
      "id": "57b7bf39-1c7a-488e-9df0-f616422dd004",
      "metadata": {
        "id": "57b7bf39-1c7a-488e-9df0-f616422dd004"
      },
      "outputs": [],
      "source": [
        "df_sales['id'].unique()"
      ]
    },
    {
      "cell_type": "markdown",
      "id": "c681640f-1945-4c78-ba2f-9e7437245665",
      "metadata": {
        "id": "c681640f-1945-4c78-ba2f-9e7437245665"
      },
      "source": [
        "# Daily Calendar with Events"
      ]
    },
    {
      "cell_type": "markdown",
      "source": [],
      "metadata": {
        "id": "B8vNC2n7VNlP"
      },
      "id": "B8vNC2n7VNlP"
    },
    {
      "cell_type": "code",
      "execution_count": null,
      "id": "57d1b46b-665e-4a26-8083-80efc05d1495",
      "metadata": {
        "id": "57d1b46b-665e-4a26-8083-80efc05d1495"
      },
      "outputs": [],
      "source": [
        "df_calendar.shape"
      ]
    },
    {
      "cell_type": "code",
      "execution_count": null,
      "id": "86db55c5-e25e-4a8a-8551-2f1149c04253",
      "metadata": {
        "id": "86db55c5-e25e-4a8a-8551-2f1149c04253"
      },
      "outputs": [],
      "source": [
        "df_calendar.describe()"
      ]
    },
    {
      "cell_type": "code",
      "execution_count": null,
      "id": "90146953-dd63-4c38-a649-b599f4ba6915",
      "metadata": {
        "id": "90146953-dd63-4c38-a649-b599f4ba6915"
      },
      "outputs": [],
      "source": [
        "cols_df_calendar = pd.DataFrame(df_calendar.columns, columns=['Column Names'])\n",
        "\n",
        "display(cols_df_calendar)"
      ]
    },
    {
      "cell_type": "code",
      "execution_count": null,
      "id": "20d18560-b7ae-4cf3-bb75-b779205ebe07",
      "metadata": {
        "id": "20d18560-b7ae-4cf3-bb75-b779205ebe07"
      },
      "outputs": [],
      "source": [
        "df_calendar.head()"
      ]
    },
    {
      "cell_type": "code",
      "execution_count": null,
      "id": "8ed8d170-188d-4ac3-a94b-53af0b060b5b",
      "metadata": {
        "id": "8ed8d170-188d-4ac3-a94b-53af0b060b5b"
      },
      "outputs": [],
      "source": [
        "df_calendar.isnull().sum()"
      ]
    },
    {
      "cell_type": "code",
      "source": [
        "df_prices.to_csv(\"df_prices_final.csv\", index=False)"
      ],
      "metadata": {
        "id": "vJd84ytKG3iY"
      },
      "id": "vJd84ytKG3iY",
      "execution_count": 15,
      "outputs": []
    },
    {
      "cell_type": "code",
      "source": [
        "df_sales.to_csv(\"df_sales_final.csv\", index=False)"
      ],
      "metadata": {
        "id": "YlTtJUnOG4ju"
      },
      "id": "YlTtJUnOG4ju",
      "execution_count": 16,
      "outputs": []
    },
    {
      "cell_type": "markdown",
      "id": "79074cb1-b40c-4343-b3dd-f298b4f8115c",
      "metadata": {
        "id": "79074cb1-b40c-4343-b3dd-f298b4f8115c"
      },
      "source": [
        "# Juntando as Tabelas"
      ]
    },
    {
      "cell_type": "markdown",
      "id": "fcc92ac6-0e7c-412e-8c78-310c36b63d8f",
      "metadata": {
        "id": "fcc92ac6-0e7c-412e-8c78-310c36b63d8f"
      },
      "source": [
        "\n",
        "## Transformação de df_sales:"
      ]
    },
    {
      "cell_type": "code",
      "source": [
        "\n",
        "# Carregue seu dataframe com Dask\n",
        "df_sales_dask = dd.read_csv(\"/content/drive/MyDrive/ARQUIVOS TFM/item_sales_final.csv\")\n",
        "\n",
        "# 1. Defina o tamanho do chunk\n",
        "chunk_size = 500\n",
        "\n",
        "# 2. Divida as colunas d_ em chunks\n",
        "d_cols = [f'd_{i}' for i in range(1, 1914)]\n",
        "d_chunks = [d_cols[i:i + chunk_size] for i in range(0, len(d_cols), chunk_size)]\n",
        "\n",
        "# 3. Realize a operação melt em cada chunk\n",
        "melted_dfs = []\n",
        "for d_chunk in d_chunks:\n",
        "    melted_df = df_sales_dask.melt(id_vars=['id', 'item', 'category', 'department', 'store', 'store_code', 'region'],\n",
        "                                   value_vars=d_chunk,\n",
        "                                   var_name='d',\n",
        "                                   value_name='sold_units')\n",
        "    melted_dfs.append(melted_df)\n",
        "\n",
        "# 4. Concatene os resultados\n",
        "df_sales_melted_dask = dd.concat(melted_dfs, axis=0)\n",
        "\n",
        "# Verifique os resultados - Note que você deve usar .compute() para obter os resultados, pois Dask é \"lazy\" por natureza\n",
        "print(df_sales_melted_dask.shape[0].compute())  # Isso retornará o número de linhas\n",
        "print(df_sales_melted_dask['store_code'].value_counts().compute())  # Isso retornará a contagem de valores para 'store_code'\n"
      ],
      "metadata": {
        "id": "nfhT9SYtKjQC"
      },
      "id": "nfhT9SYtKjQC",
      "execution_count": null,
      "outputs": []
    },
    {
      "cell_type": "code",
      "execution_count": 9,
      "id": "765bddf1-3843-446c-a452-993c2e9615e1",
      "metadata": {
        "colab": {
          "base_uri": "https://localhost:8080/"
        },
        "id": "765bddf1-3843-446c-a452-993c2e9615e1",
        "outputId": "1604a762-4a1a-4531-acf1-dc4e899a56af"
      },
      "outputs": [
        {
          "output_type": "stream",
          "name": "stdout",
          "text": [
            "(58327370, 9)\n",
            "NYC_1    5832737\n",
            "NYC_2    5832737\n",
            "NYC_3    5832737\n",
            "NYC_4    5832737\n",
            "BOS_1    5832737\n",
            "BOS_2    5832737\n",
            "BOS_3    5832737\n",
            "PHI_1    5832737\n",
            "PHI_2    5832737\n",
            "PHI_3    5832737\n",
            "Name: store_code, dtype: int64\n"
          ]
        }
      ],
      "source": [
        "# 1. Defina o tamanho do chunk\n",
        "chunk_size = 500\n",
        "\n",
        "# 2. Divida as colunas d_ em chunks\n",
        "d_cols = [f'd_{i}' for i in range(1, 1914)]\n",
        "d_chunks = [d_cols[i:i + chunk_size] for i in range(0, len(d_cols), chunk_size)]\n",
        "\n",
        "# 3. Realize a operação melt em cada chunk\n",
        "melted_dfs = []\n",
        "for d_chunk in d_chunks:\n",
        "    melted_df = df_sales.melt(id_vars=['id', 'item', 'category', 'department', 'store', 'store_code', 'region'],\n",
        "                              value_vars=d_chunk,\n",
        "                              var_name='d',\n",
        "                              value_name='sold_units')\n",
        "    melted_dfs.append(melted_df)\n",
        "\n",
        "# 4. Concatene os resultados\n",
        "df_sales_melted = pd.concat(melted_dfs, axis=0)\n",
        "\n",
        "# Verifique os resultados\n",
        "print(df_sales_melted.shape)\n",
        "print(df_sales_melted['store_code'].value_counts())\n"
      ]
    },
    {
      "cell_type": "markdown",
      "id": "68a9c6da-95de-4c27-a5ee-4f37e4bfd751",
      "metadata": {
        "id": "68a9c6da-95de-4c27-a5ee-4f37e4bfd751"
      },
      "source": [
        "## Juntar com daily_calendar_with_events:"
      ]
    },
    {
      "cell_type": "code",
      "execution_count": 10,
      "id": "60ffa37f-1507-47d7-b881-d01e9c87a257",
      "metadata": {
        "id": "60ffa37f-1507-47d7-b881-d01e9c87a257"
      },
      "outputs": [],
      "source": [
        "# Converter a coluna 'd' em ambos os dataframes para int64\n",
        "df_calendar['d'] = df_calendar['d'].str.extract('(\\d+)').astype(int)\n",
        "\n",
        "# Suponhamos que cada chunk terá 50000 linhas\n",
        "chunk_size = 50000\n",
        "chunks = [x for x in range(0, df_sales_melted.shape[0], chunk_size)]\n",
        "\n",
        "# Lista para armazenar os resultados de cada chunk processado\n",
        "dfs = []\n",
        "\n",
        "for start in chunks:\n",
        "    # Pega o pedaço do DataFrame\n",
        "    subset = df_sales_melted.iloc[start:start+chunk_size].copy()\n",
        "\n",
        "    # Converter a coluna 'd' em inteiro para subset\n",
        "    subset['d'] = subset['d'].str.extract('(\\d+)').astype(int)\n",
        "\n",
        "    # Junção com df_calendar\n",
        "    merged_subset = pd.merge(subset, df_calendar, on='d', how='left')\n",
        "\n",
        "    # Adicionar o resultado na lista\n",
        "    dfs.append(merged_subset)\n",
        "\n",
        "# Concatenar todos os resultados\n",
        "df_sales_calendar = pd.concat(dfs, ignore_index=True)\n"
      ]
    },
    {
      "cell_type": "code",
      "source": [
        "df_sales_calendar.to_csv(\"df_sales_calendar.csv\", index=False)"
      ],
      "metadata": {
        "id": "53sO0PylIdY-"
      },
      "id": "53sO0PylIdY-",
      "execution_count": 18,
      "outputs": []
    },
    {
      "cell_type": "markdown",
      "id": "0a545370-dc0c-4e65-b1d6-ece1b59a3365",
      "metadata": {
        "id": "0a545370-dc0c-4e65-b1d6-ece1b59a3365"
      },
      "source": [
        "## Extrair o 'yearweek' a partir da coluna 'date':"
      ]
    },
    {
      "cell_type": "code",
      "execution_count": 11,
      "id": "02a3a800-a1b3-4506-a5b5-4f445254c2ce",
      "metadata": {
        "id": "02a3a800-a1b3-4506-a5b5-4f445254c2ce"
      },
      "outputs": [],
      "source": [
        "df_sales_calendar['date'] = pd.to_datetime(df_sales_calendar['date'])\n",
        "df_sales_calendar['yearweek'] = df_sales_calendar['date'].dt.strftime('%Y%U').astype(int)\n"
      ]
    },
    {
      "cell_type": "markdown",
      "id": "12059927-d2fb-4ec1-83b6-227444937da6",
      "metadata": {
        "id": "12059927-d2fb-4ec1-83b6-227444937da6"
      },
      "source": [
        "## Juntar com item_prices:"
      ]
    },
    {
      "cell_type": "code",
      "execution_count": 12,
      "id": "d1b7a1a0-d4d0-4fc7-9293-c98ca25017fd",
      "metadata": {
        "id": "d1b7a1a0-d4d0-4fc7-9293-c98ca25017fd"
      },
      "outputs": [],
      "source": [
        "df_prices['yearweek'] = df_prices['yearweek'].astype(int)"
      ]
    },
    {
      "cell_type": "code",
      "execution_count": 13,
      "id": "3d4bedab-d05e-41a0-ac08-3dcca03e0304",
      "metadata": {
        "colab": {
          "base_uri": "https://localhost:8080/",
          "height": 889
        },
        "id": "3d4bedab-d05e-41a0-ac08-3dcca03e0304",
        "outputId": "a2dabb71-bc4e-45ca-d45b-6527ca6989dd"
      },
      "outputs": [
        {
          "output_type": "stream",
          "name": "stderr",
          "text": [
            "INFO:distributed.http.proxy:To route to workers diagnostics web server please install jupyter-server-proxy: python -m pip install jupyter-server-proxy\n",
            "INFO:distributed.scheduler:State start\n",
            "INFO:distributed.scheduler:  Scheduler at:     tcp://127.0.0.1:34835\n",
            "INFO:distributed.scheduler:  dashboard at:  http://127.0.0.1:8787/status\n",
            "INFO:distributed.nanny:        Start Nanny at: 'tcp://127.0.0.1:38209'\n",
            "INFO:distributed.nanny:        Start Nanny at: 'tcp://127.0.0.1:42997'\n",
            "INFO:distributed.nanny:        Start Nanny at: 'tcp://127.0.0.1:40669'\n",
            "INFO:distributed.nanny:        Start Nanny at: 'tcp://127.0.0.1:33651'\n",
            "INFO:distributed.scheduler:Register worker <WorkerState 'tcp://127.0.0.1:41709', name: 0, status: init, memory: 0, processing: 0>\n",
            "INFO:distributed.scheduler:Starting worker compute stream, tcp://127.0.0.1:41709\n",
            "INFO:distributed.core:Starting established connection to tcp://127.0.0.1:55168\n",
            "INFO:distributed.scheduler:Register worker <WorkerState 'tcp://127.0.0.1:42543', name: 2, status: init, memory: 0, processing: 0>\n",
            "INFO:distributed.scheduler:Starting worker compute stream, tcp://127.0.0.1:42543\n",
            "INFO:distributed.core:Starting established connection to tcp://127.0.0.1:55204\n",
            "INFO:distributed.scheduler:Register worker <WorkerState 'tcp://127.0.0.1:46721', name: 1, status: init, memory: 0, processing: 0>\n",
            "INFO:distributed.scheduler:Starting worker compute stream, tcp://127.0.0.1:46721\n",
            "INFO:distributed.core:Starting established connection to tcp://127.0.0.1:55188\n",
            "INFO:distributed.scheduler:Register worker <WorkerState 'tcp://127.0.0.1:45431', name: 3, status: init, memory: 0, processing: 0>\n",
            "INFO:distributed.scheduler:Starting worker compute stream, tcp://127.0.0.1:45431\n",
            "INFO:distributed.core:Starting established connection to tcp://127.0.0.1:55178\n",
            "INFO:distributed.scheduler:Receive client connection: Client-034407e7-421b-11ee-9066-0242ac1c000c\n",
            "INFO:distributed.core:Starting established connection to tcp://127.0.0.1:55218\n"
          ]
        },
        {
          "output_type": "error",
          "ename": "FileNotFoundError",
          "evalue": "ignored",
          "traceback": [
            "\u001b[0;31m---------------------------------------------------------------------------\u001b[0m",
            "\u001b[0;31mFileNotFoundError\u001b[0m                         Traceback (most recent call last)",
            "\u001b[0;32m/usr/local/lib/python3.10/dist-packages/dask/backends.py\u001b[0m in \u001b[0;36mwrapper\u001b[0;34m(*args, **kwargs)\u001b[0m\n\u001b[1;32m    135\u001b[0m                 \u001b[0;32mtry\u001b[0m\u001b[0;34m:\u001b[0m\u001b[0;34m\u001b[0m\u001b[0;34m\u001b[0m\u001b[0m\n\u001b[0;32m--> 136\u001b[0;31m                     \u001b[0;32mreturn\u001b[0m \u001b[0mfunc\u001b[0m\u001b[0;34m(\u001b[0m\u001b[0;34m*\u001b[0m\u001b[0margs\u001b[0m\u001b[0;34m,\u001b[0m \u001b[0;34m**\u001b[0m\u001b[0mkwargs\u001b[0m\u001b[0;34m)\u001b[0m\u001b[0;34m\u001b[0m\u001b[0;34m\u001b[0m\u001b[0m\n\u001b[0m\u001b[1;32m    137\u001b[0m                 \u001b[0;32mexcept\u001b[0m \u001b[0mException\u001b[0m \u001b[0;32mas\u001b[0m \u001b[0me\u001b[0m\u001b[0;34m:\u001b[0m\u001b[0;34m\u001b[0m\u001b[0;34m\u001b[0m\u001b[0m\n",
            "\u001b[0;32m/usr/local/lib/python3.10/dist-packages/dask/dataframe/io/csv.py\u001b[0m in \u001b[0;36mread\u001b[0;34m(urlpath, blocksize, lineterminator, compression, sample, sample_rows, enforce, assume_missing, storage_options, include_path_column, **kwargs)\u001b[0m\n\u001b[1;32m    760\u001b[0m     ):\n\u001b[0;32m--> 761\u001b[0;31m         return read_pandas(\n\u001b[0m\u001b[1;32m    762\u001b[0m             \u001b[0mreader\u001b[0m\u001b[0;34m,\u001b[0m\u001b[0;34m\u001b[0m\u001b[0;34m\u001b[0m\u001b[0m\n",
            "\u001b[0;32m/usr/local/lib/python3.10/dist-packages/dask/dataframe/io/csv.py\u001b[0m in \u001b[0;36mread_pandas\u001b[0;34m(reader, urlpath, blocksize, lineterminator, compression, sample, sample_rows, enforce, assume_missing, storage_options, include_path_column, **kwargs)\u001b[0m\n\u001b[1;32m    560\u001b[0m     \u001b[0mb_lineterminator\u001b[0m \u001b[0;34m=\u001b[0m \u001b[0mlineterminator\u001b[0m\u001b[0;34m.\u001b[0m\u001b[0mencode\u001b[0m\u001b[0;34m(\u001b[0m\u001b[0;34m)\u001b[0m\u001b[0;34m\u001b[0m\u001b[0;34m\u001b[0m\u001b[0m\n\u001b[0;32m--> 561\u001b[0;31m     b_out = read_bytes(\n\u001b[0m\u001b[1;32m    562\u001b[0m         \u001b[0murlpath\u001b[0m\u001b[0;34m,\u001b[0m\u001b[0;34m\u001b[0m\u001b[0;34m\u001b[0m\u001b[0m\n",
            "\u001b[0;32m/usr/local/lib/python3.10/dist-packages/dask/bytes/core.py\u001b[0m in \u001b[0;36mread_bytes\u001b[0;34m(urlpath, delimiter, not_zero, blocksize, sample, compression, include_path, **kwargs)\u001b[0m\n\u001b[1;32m    110\u001b[0m                 )\n\u001b[0;32m--> 111\u001b[0;31m             \u001b[0msize\u001b[0m \u001b[0;34m=\u001b[0m \u001b[0mfs\u001b[0m\u001b[0;34m.\u001b[0m\u001b[0minfo\u001b[0m\u001b[0;34m(\u001b[0m\u001b[0mpath\u001b[0m\u001b[0;34m)\u001b[0m\u001b[0;34m[\u001b[0m\u001b[0;34m\"size\"\u001b[0m\u001b[0;34m]\u001b[0m\u001b[0;34m\u001b[0m\u001b[0;34m\u001b[0m\u001b[0m\n\u001b[0m\u001b[1;32m    112\u001b[0m             \u001b[0;32mif\u001b[0m \u001b[0msize\u001b[0m \u001b[0;32mis\u001b[0m \u001b[0;32mNone\u001b[0m\u001b[0;34m:\u001b[0m\u001b[0;34m\u001b[0m\u001b[0;34m\u001b[0m\u001b[0m\n",
            "\u001b[0;32m/usr/local/lib/python3.10/dist-packages/fsspec/implementations/local.py\u001b[0m in \u001b[0;36minfo\u001b[0;34m(self, path, **kwargs)\u001b[0m\n\u001b[1;32m     86\u001b[0m             \u001b[0mpath\u001b[0m \u001b[0;34m=\u001b[0m \u001b[0mself\u001b[0m\u001b[0;34m.\u001b[0m\u001b[0m_strip_protocol\u001b[0m\u001b[0;34m(\u001b[0m\u001b[0mpath\u001b[0m\u001b[0;34m)\u001b[0m\u001b[0;34m\u001b[0m\u001b[0;34m\u001b[0m\u001b[0m\n\u001b[0;32m---> 87\u001b[0;31m             \u001b[0mout\u001b[0m \u001b[0;34m=\u001b[0m \u001b[0mos\u001b[0m\u001b[0;34m.\u001b[0m\u001b[0mstat\u001b[0m\u001b[0;34m(\u001b[0m\u001b[0mpath\u001b[0m\u001b[0;34m,\u001b[0m \u001b[0mfollow_symlinks\u001b[0m\u001b[0;34m=\u001b[0m\u001b[0;32mFalse\u001b[0m\u001b[0;34m)\u001b[0m\u001b[0;34m\u001b[0m\u001b[0;34m\u001b[0m\u001b[0m\n\u001b[0m\u001b[1;32m     88\u001b[0m             \u001b[0mlink\u001b[0m \u001b[0;34m=\u001b[0m \u001b[0mstat\u001b[0m\u001b[0;34m.\u001b[0m\u001b[0mS_ISLNK\u001b[0m\u001b[0;34m(\u001b[0m\u001b[0mout\u001b[0m\u001b[0;34m.\u001b[0m\u001b[0mst_mode\u001b[0m\u001b[0;34m)\u001b[0m\u001b[0;34m\u001b[0m\u001b[0;34m\u001b[0m\u001b[0m\n",
            "\u001b[0;31mFileNotFoundError\u001b[0m: [Errno 2] No such file or directory: '/content/path_to_sales_calendar.csv'",
            "\nThe above exception was the direct cause of the following exception:\n",
            "\u001b[0;31mFileNotFoundError\u001b[0m                         Traceback (most recent call last)",
            "\u001b[0;32m<ipython-input-13-8cc4eceee3d8>\u001b[0m in \u001b[0;36m<cell line: 55>\u001b[0;34m()\u001b[0m\n\u001b[1;32m     53\u001b[0m \u001b[0;34m\u001b[0m\u001b[0m\n\u001b[1;32m     54\u001b[0m \u001b[0;31m# Carregando os dados usando Dask (adapte o caminho do arquivo conforme necessário)\u001b[0m\u001b[0;34m\u001b[0m\u001b[0;34m\u001b[0m\u001b[0m\n\u001b[0;32m---> 55\u001b[0;31m \u001b[0mdf_sales_calendar_dask\u001b[0m \u001b[0;34m=\u001b[0m \u001b[0mdd\u001b[0m\u001b[0;34m.\u001b[0m\u001b[0mread_csv\u001b[0m\u001b[0;34m(\u001b[0m\u001b[0;34m'path_to_sales_calendar.csv'\u001b[0m\u001b[0;34m)\u001b[0m\u001b[0;34m\u001b[0m\u001b[0;34m\u001b[0m\u001b[0m\n\u001b[0m\u001b[1;32m     56\u001b[0m \u001b[0mdf_prices_dask\u001b[0m \u001b[0;34m=\u001b[0m \u001b[0mdd\u001b[0m\u001b[0;34m.\u001b[0m\u001b[0mread_csv\u001b[0m\u001b[0;34m(\u001b[0m\u001b[0;34m'path_to_prices.csv'\u001b[0m\u001b[0;34m)\u001b[0m\u001b[0;34m\u001b[0m\u001b[0;34m\u001b[0m\u001b[0m\n\u001b[1;32m     57\u001b[0m \u001b[0;34m\u001b[0m\u001b[0m\n",
            "\u001b[0;32m/usr/local/lib/python3.10/dist-packages/dask/backends.py\u001b[0m in \u001b[0;36mwrapper\u001b[0;34m(*args, **kwargs)\u001b[0m\n\u001b[1;32m    136\u001b[0m                     \u001b[0;32mreturn\u001b[0m \u001b[0mfunc\u001b[0m\u001b[0;34m(\u001b[0m\u001b[0;34m*\u001b[0m\u001b[0margs\u001b[0m\u001b[0;34m,\u001b[0m \u001b[0;34m**\u001b[0m\u001b[0mkwargs\u001b[0m\u001b[0;34m)\u001b[0m\u001b[0;34m\u001b[0m\u001b[0;34m\u001b[0m\u001b[0m\n\u001b[1;32m    137\u001b[0m                 \u001b[0;32mexcept\u001b[0m \u001b[0mException\u001b[0m \u001b[0;32mas\u001b[0m \u001b[0me\u001b[0m\u001b[0;34m:\u001b[0m\u001b[0;34m\u001b[0m\u001b[0;34m\u001b[0m\u001b[0m\n\u001b[0;32m--> 138\u001b[0;31m                     raise type(e)(\n\u001b[0m\u001b[1;32m    139\u001b[0m                         \u001b[0;34mf\"An error occurred while calling the {funcname(func)} \"\u001b[0m\u001b[0;34m\u001b[0m\u001b[0;34m\u001b[0m\u001b[0m\n\u001b[1;32m    140\u001b[0m                         \u001b[0;34mf\"method registered to the {self.backend} backend.\\n\"\u001b[0m\u001b[0;34m\u001b[0m\u001b[0;34m\u001b[0m\u001b[0m\n",
            "\u001b[0;31mFileNotFoundError\u001b[0m: An error occurred while calling the read_csv method registered to the pandas backend.\nOriginal Message: [Errno 2] No such file or directory: '/content/path_to_sales_calendar.csv'"
          ]
        }
      ],
      "source": [
        "client = Client()  # Inicia um cluster local\n",
        "\n",
        "# Função para otimizar os tipos de dados do DataFrame\n",
        "def optimize_dataframe(df):\n",
        "    # Convertendo colunas para category\n",
        "    categorical_cols = ['item', 'category', 'department', 'store', 'store_code', 'region', 'weekday', 'event']\n",
        "    for col in categorical_cols:\n",
        "        df[col] = df[col].astype('category')\n",
        "\n",
        "    # Convertendo int64 para int32\n",
        "    df['d'] = df['d'].astype('int32')\n",
        "    df['sold_units'] = df['sold_units'].astype('int32')\n",
        "    df['weekday_int'] = df['weekday_int'].astype('int32')\n",
        "    df['yearweek'] = df['yearweek'].astype('int32')\n",
        "\n",
        "    # Convertendo float64 para float32\n",
        "    df['sell_price'] = df['sell_price'].astype('float32')\n",
        "\n",
        "    return df\n",
        "\n",
        "# Função para fazer a junção (merge) em pedaços (chunks)\n",
        "def merge_in_chunks_dask(df_main, df_secondary, on_columns, n_chunks=20, how='left'):\n",
        "    chunk_size = len(df_main) // n_chunks\n",
        "    merged_dfs = []\n",
        "\n",
        "    # Mesmo processo de iteração, mas com algumas modificações para Dask\n",
        "    for i in tqdm(range(n_chunks)):\n",
        "        start_idx = i * chunk_size\n",
        "        end_idx = (i + 1) * chunk_size if i != n_chunks - 1 else None\n",
        "\n",
        "        chunk = df_main.loc[start_idx:end_idx]\n",
        "        merged_chunk = chunk.merge(df_secondary, on=on_columns, how=how, suffixes=('', '_drop'))\n",
        "\n",
        "        # Remover colunas com sufixo \"_drop\"\n",
        "        drop_cols = [col for col in merged_chunk.columns if col.endswith('_drop')]\n",
        "        merged_chunk = merged_chunk.drop(columns=drop_cols)\n",
        "\n",
        "        # Preenche NaNs na coluna 'event' com 'Sem evento'\n",
        "        merged_chunk['event'] = merged_chunk['event'].fillna('Sem evento')\n",
        "\n",
        "        # Preenchendo NaNs na coluna 'sell_price'\n",
        "        # Usamos groupby e transform para computar a média do 'sell_price' para cada 'item'\n",
        "        # e depois preenchemos os NaNs com essa média\n",
        "        merged_chunk['sell_price'] = merged_chunk.groupby('item')['sell_price'].transform(lambda x: x.fillna(x.mean()))\n",
        "\n",
        "        # Atenção: Se um item inteiro está faltando no df_prices, então a média será NaN\n",
        "        # Nesse caso, você pode optar por preencher com 0 ou qualquer outro valor padrão\n",
        "        merged_chunk['sell_price'] = merged_chunk['sell_price'].fillna(0)\n",
        "\n",
        "        merged_dfs.append(merged_chunk)\n",
        "\n",
        "    return dd.concat(merged_dfs)\n",
        "\n",
        "# Carregando os dados usando Dask (adapte o caminho do arquivo conforme necessário)\n",
        "df_sales_calendar_dask = dd.read_csv(\"/content/drive/MyDrive/ARQUIVOS TFM/daily_calendar_with_events.csv\")\n",
        "df_prices_dask = dd.read_csv(\"/content/drive/MyDrive/ARQUIVOS TFM/item_prices_final.csv\")\n",
        "\n",
        "on_columns = ['item', 'store_code', 'yearweek']\n",
        "df_final_dask = merge_in_chunks_dask(df_sales_calendar_dask, df_prices_dask, on_columns, n_chunks=20)\n",
        "\n",
        "# Otimizando o DataFrame final\n",
        "df_final_dask = df_final_dask.map_partitions(optimize_dataframe)\n",
        "\n",
        "# Se você eventualmente precisar do DataFrame resultante em Pandas, você pode fazer:\n",
        "# df_final_pandas = df_final_dask.compute()\n",
        "\n",
        "client.close()\n",
        "\n"
      ]
    },
    {
      "cell_type": "code",
      "execution_count": 32,
      "id": "jO22sQ7XMmcm",
      "metadata": {
        "colab": {
          "base_uri": "https://localhost:8080/",
          "height": 790
        },
        "id": "jO22sQ7XMmcm",
        "outputId": "baa2676f-84eb-40d5-d82b-235268188833"
      },
      "outputs": [
        {
          "output_type": "execute_result",
          "data": {
            "text/plain": [
              "                         id              item    category    department  \\\n",
              "0    ACCESORIES_1_001_NYC_1  ACCESORIES_1_001  ACCESORIES  ACCESORIES_1   \n",
              "1    ACCESORIES_1_002_NYC_1  ACCESORIES_1_002  ACCESORIES  ACCESORIES_1   \n",
              "2    ACCESORIES_1_003_NYC_1  ACCESORIES_1_003  ACCESORIES  ACCESORIES_1   \n",
              "3    ACCESORIES_1_004_NYC_1  ACCESORIES_1_004  ACCESORIES  ACCESORIES_1   \n",
              "4    ACCESORIES_1_005_NYC_1  ACCESORIES_1_005  ACCESORIES  ACCESORIES_1   \n",
              "..                      ...               ...         ...           ...   \n",
              "495  ACCESORIES_2_080_NYC_1  ACCESORIES_2_080  ACCESORIES  ACCESORIES_2   \n",
              "496  ACCESORIES_2_081_NYC_1  ACCESORIES_2_081  ACCESORIES  ACCESORIES_2   \n",
              "497  ACCESORIES_2_082_NYC_1  ACCESORIES_2_082  ACCESORIES  ACCESORIES_2   \n",
              "498  ACCESORIES_2_083_NYC_1  ACCESORIES_2_083  ACCESORIES  ACCESORIES_2   \n",
              "499  ACCESORIES_2_084_NYC_1  ACCESORIES_2_084  ACCESORIES  ACCESORIES_2   \n",
              "\n",
              "                 store store_code    region  d  sold_units       date  \\\n",
              "0    Greenwich_Village      NYC_1  New York  1           0 2011-01-29   \n",
              "1    Greenwich_Village      NYC_1  New York  1           0 2011-01-29   \n",
              "2    Greenwich_Village      NYC_1  New York  1           0 2011-01-29   \n",
              "3    Greenwich_Village      NYC_1  New York  1           0 2011-01-29   \n",
              "4    Greenwich_Village      NYC_1  New York  1           0 2011-01-29   \n",
              "..                 ...        ...       ... ..         ...        ...   \n",
              "495  Greenwich_Village      NYC_1  New York  1           0 2011-01-29   \n",
              "496  Greenwich_Village      NYC_1  New York  1           0 2011-01-29   \n",
              "497  Greenwich_Village      NYC_1  New York  1           0 2011-01-29   \n",
              "498  Greenwich_Village      NYC_1  New York  1           0 2011-01-29   \n",
              "499  Greenwich_Village      NYC_1  New York  1           0 2011-01-29   \n",
              "\n",
              "      weekday  weekday_int       event  yearweek  sell_price  \n",
              "0    Saturday            1  Sem evento    201104   11.036588  \n",
              "1    Saturday            1  Sem evento    201104    5.276506  \n",
              "2    Saturday            1  Sem evento    201104    3.943870  \n",
              "3    Saturday            1  Sem evento    201104    5.981392  \n",
              "4    Saturday            1  Sem evento    201104    3.833366  \n",
              "..        ...          ...         ...       ...         ...  \n",
              "495  Saturday            1  Sem evento    201104    5.289121  \n",
              "496  Saturday            1  Sem evento    201104    2.733332  \n",
              "497  Saturday            1  Sem evento    201104    1.170000  \n",
              "498  Saturday            1  Sem evento    201104    3.679843  \n",
              "499  Saturday            1  Sem evento    201104    8.413713  \n",
              "\n",
              "[500 rows x 15 columns]"
            ],
            "text/html": [
              "\n",
              "  <div id=\"df-3ecf3d3f-80de-4457-897f-d476cdab1083\" class=\"colab-df-container\">\n",
              "    <div>\n",
              "<style scoped>\n",
              "    .dataframe tbody tr th:only-of-type {\n",
              "        vertical-align: middle;\n",
              "    }\n",
              "\n",
              "    .dataframe tbody tr th {\n",
              "        vertical-align: top;\n",
              "    }\n",
              "\n",
              "    .dataframe thead th {\n",
              "        text-align: right;\n",
              "    }\n",
              "</style>\n",
              "<table border=\"1\" class=\"dataframe\">\n",
              "  <thead>\n",
              "    <tr style=\"text-align: right;\">\n",
              "      <th></th>\n",
              "      <th>id</th>\n",
              "      <th>item</th>\n",
              "      <th>category</th>\n",
              "      <th>department</th>\n",
              "      <th>store</th>\n",
              "      <th>store_code</th>\n",
              "      <th>region</th>\n",
              "      <th>d</th>\n",
              "      <th>sold_units</th>\n",
              "      <th>date</th>\n",
              "      <th>weekday</th>\n",
              "      <th>weekday_int</th>\n",
              "      <th>event</th>\n",
              "      <th>yearweek</th>\n",
              "      <th>sell_price</th>\n",
              "    </tr>\n",
              "  </thead>\n",
              "  <tbody>\n",
              "    <tr>\n",
              "      <th>0</th>\n",
              "      <td>ACCESORIES_1_001_NYC_1</td>\n",
              "      <td>ACCESORIES_1_001</td>\n",
              "      <td>ACCESORIES</td>\n",
              "      <td>ACCESORIES_1</td>\n",
              "      <td>Greenwich_Village</td>\n",
              "      <td>NYC_1</td>\n",
              "      <td>New York</td>\n",
              "      <td>1</td>\n",
              "      <td>0</td>\n",
              "      <td>2011-01-29</td>\n",
              "      <td>Saturday</td>\n",
              "      <td>1</td>\n",
              "      <td>Sem evento</td>\n",
              "      <td>201104</td>\n",
              "      <td>11.036588</td>\n",
              "    </tr>\n",
              "    <tr>\n",
              "      <th>1</th>\n",
              "      <td>ACCESORIES_1_002_NYC_1</td>\n",
              "      <td>ACCESORIES_1_002</td>\n",
              "      <td>ACCESORIES</td>\n",
              "      <td>ACCESORIES_1</td>\n",
              "      <td>Greenwich_Village</td>\n",
              "      <td>NYC_1</td>\n",
              "      <td>New York</td>\n",
              "      <td>1</td>\n",
              "      <td>0</td>\n",
              "      <td>2011-01-29</td>\n",
              "      <td>Saturday</td>\n",
              "      <td>1</td>\n",
              "      <td>Sem evento</td>\n",
              "      <td>201104</td>\n",
              "      <td>5.276506</td>\n",
              "    </tr>\n",
              "    <tr>\n",
              "      <th>2</th>\n",
              "      <td>ACCESORIES_1_003_NYC_1</td>\n",
              "      <td>ACCESORIES_1_003</td>\n",
              "      <td>ACCESORIES</td>\n",
              "      <td>ACCESORIES_1</td>\n",
              "      <td>Greenwich_Village</td>\n",
              "      <td>NYC_1</td>\n",
              "      <td>New York</td>\n",
              "      <td>1</td>\n",
              "      <td>0</td>\n",
              "      <td>2011-01-29</td>\n",
              "      <td>Saturday</td>\n",
              "      <td>1</td>\n",
              "      <td>Sem evento</td>\n",
              "      <td>201104</td>\n",
              "      <td>3.943870</td>\n",
              "    </tr>\n",
              "    <tr>\n",
              "      <th>3</th>\n",
              "      <td>ACCESORIES_1_004_NYC_1</td>\n",
              "      <td>ACCESORIES_1_004</td>\n",
              "      <td>ACCESORIES</td>\n",
              "      <td>ACCESORIES_1</td>\n",
              "      <td>Greenwich_Village</td>\n",
              "      <td>NYC_1</td>\n",
              "      <td>New York</td>\n",
              "      <td>1</td>\n",
              "      <td>0</td>\n",
              "      <td>2011-01-29</td>\n",
              "      <td>Saturday</td>\n",
              "      <td>1</td>\n",
              "      <td>Sem evento</td>\n",
              "      <td>201104</td>\n",
              "      <td>5.981392</td>\n",
              "    </tr>\n",
              "    <tr>\n",
              "      <th>4</th>\n",
              "      <td>ACCESORIES_1_005_NYC_1</td>\n",
              "      <td>ACCESORIES_1_005</td>\n",
              "      <td>ACCESORIES</td>\n",
              "      <td>ACCESORIES_1</td>\n",
              "      <td>Greenwich_Village</td>\n",
              "      <td>NYC_1</td>\n",
              "      <td>New York</td>\n",
              "      <td>1</td>\n",
              "      <td>0</td>\n",
              "      <td>2011-01-29</td>\n",
              "      <td>Saturday</td>\n",
              "      <td>1</td>\n",
              "      <td>Sem evento</td>\n",
              "      <td>201104</td>\n",
              "      <td>3.833366</td>\n",
              "    </tr>\n",
              "    <tr>\n",
              "      <th>...</th>\n",
              "      <td>...</td>\n",
              "      <td>...</td>\n",
              "      <td>...</td>\n",
              "      <td>...</td>\n",
              "      <td>...</td>\n",
              "      <td>...</td>\n",
              "      <td>...</td>\n",
              "      <td>...</td>\n",
              "      <td>...</td>\n",
              "      <td>...</td>\n",
              "      <td>...</td>\n",
              "      <td>...</td>\n",
              "      <td>...</td>\n",
              "      <td>...</td>\n",
              "      <td>...</td>\n",
              "    </tr>\n",
              "    <tr>\n",
              "      <th>495</th>\n",
              "      <td>ACCESORIES_2_080_NYC_1</td>\n",
              "      <td>ACCESORIES_2_080</td>\n",
              "      <td>ACCESORIES</td>\n",
              "      <td>ACCESORIES_2</td>\n",
              "      <td>Greenwich_Village</td>\n",
              "      <td>NYC_1</td>\n",
              "      <td>New York</td>\n",
              "      <td>1</td>\n",
              "      <td>0</td>\n",
              "      <td>2011-01-29</td>\n",
              "      <td>Saturday</td>\n",
              "      <td>1</td>\n",
              "      <td>Sem evento</td>\n",
              "      <td>201104</td>\n",
              "      <td>5.289121</td>\n",
              "    </tr>\n",
              "    <tr>\n",
              "      <th>496</th>\n",
              "      <td>ACCESORIES_2_081_NYC_1</td>\n",
              "      <td>ACCESORIES_2_081</td>\n",
              "      <td>ACCESORIES</td>\n",
              "      <td>ACCESORIES_2</td>\n",
              "      <td>Greenwich_Village</td>\n",
              "      <td>NYC_1</td>\n",
              "      <td>New York</td>\n",
              "      <td>1</td>\n",
              "      <td>0</td>\n",
              "      <td>2011-01-29</td>\n",
              "      <td>Saturday</td>\n",
              "      <td>1</td>\n",
              "      <td>Sem evento</td>\n",
              "      <td>201104</td>\n",
              "      <td>2.733332</td>\n",
              "    </tr>\n",
              "    <tr>\n",
              "      <th>497</th>\n",
              "      <td>ACCESORIES_2_082_NYC_1</td>\n",
              "      <td>ACCESORIES_2_082</td>\n",
              "      <td>ACCESORIES</td>\n",
              "      <td>ACCESORIES_2</td>\n",
              "      <td>Greenwich_Village</td>\n",
              "      <td>NYC_1</td>\n",
              "      <td>New York</td>\n",
              "      <td>1</td>\n",
              "      <td>0</td>\n",
              "      <td>2011-01-29</td>\n",
              "      <td>Saturday</td>\n",
              "      <td>1</td>\n",
              "      <td>Sem evento</td>\n",
              "      <td>201104</td>\n",
              "      <td>1.170000</td>\n",
              "    </tr>\n",
              "    <tr>\n",
              "      <th>498</th>\n",
              "      <td>ACCESORIES_2_083_NYC_1</td>\n",
              "      <td>ACCESORIES_2_083</td>\n",
              "      <td>ACCESORIES</td>\n",
              "      <td>ACCESORIES_2</td>\n",
              "      <td>Greenwich_Village</td>\n",
              "      <td>NYC_1</td>\n",
              "      <td>New York</td>\n",
              "      <td>1</td>\n",
              "      <td>0</td>\n",
              "      <td>2011-01-29</td>\n",
              "      <td>Saturday</td>\n",
              "      <td>1</td>\n",
              "      <td>Sem evento</td>\n",
              "      <td>201104</td>\n",
              "      <td>3.679843</td>\n",
              "    </tr>\n",
              "    <tr>\n",
              "      <th>499</th>\n",
              "      <td>ACCESORIES_2_084_NYC_1</td>\n",
              "      <td>ACCESORIES_2_084</td>\n",
              "      <td>ACCESORIES</td>\n",
              "      <td>ACCESORIES_2</td>\n",
              "      <td>Greenwich_Village</td>\n",
              "      <td>NYC_1</td>\n",
              "      <td>New York</td>\n",
              "      <td>1</td>\n",
              "      <td>0</td>\n",
              "      <td>2011-01-29</td>\n",
              "      <td>Saturday</td>\n",
              "      <td>1</td>\n",
              "      <td>Sem evento</td>\n",
              "      <td>201104</td>\n",
              "      <td>8.413713</td>\n",
              "    </tr>\n",
              "  </tbody>\n",
              "</table>\n",
              "<p>500 rows × 15 columns</p>\n",
              "</div>\n",
              "    <div class=\"colab-df-buttons\">\n",
              "\n",
              "  <div class=\"colab-df-container\">\n",
              "    <button class=\"colab-df-convert\" onclick=\"convertToInteractive('df-3ecf3d3f-80de-4457-897f-d476cdab1083')\"\n",
              "            title=\"Convert this dataframe to an interactive table.\"\n",
              "            style=\"display:none;\">\n",
              "\n",
              "  <svg xmlns=\"http://www.w3.org/2000/svg\" height=\"24px\" viewBox=\"0 -960 960 960\">\n",
              "    <path d=\"M120-120v-720h720v720H120Zm60-500h600v-160H180v160Zm220 220h160v-160H400v160Zm0 220h160v-160H400v160ZM180-400h160v-160H180v160Zm440 0h160v-160H620v160ZM180-180h160v-160H180v160Zm440 0h160v-160H620v160Z\"/>\n",
              "  </svg>\n",
              "    </button>\n",
              "\n",
              "  <style>\n",
              "    .colab-df-container {\n",
              "      display:flex;\n",
              "      gap: 12px;\n",
              "    }\n",
              "\n",
              "    .colab-df-convert {\n",
              "      background-color: #E8F0FE;\n",
              "      border: none;\n",
              "      border-radius: 50%;\n",
              "      cursor: pointer;\n",
              "      display: none;\n",
              "      fill: #1967D2;\n",
              "      height: 32px;\n",
              "      padding: 0 0 0 0;\n",
              "      width: 32px;\n",
              "    }\n",
              "\n",
              "    .colab-df-convert:hover {\n",
              "      background-color: #E2EBFA;\n",
              "      box-shadow: 0px 1px 2px rgba(60, 64, 67, 0.3), 0px 1px 3px 1px rgba(60, 64, 67, 0.15);\n",
              "      fill: #174EA6;\n",
              "    }\n",
              "\n",
              "    .colab-df-buttons div {\n",
              "      margin-bottom: 4px;\n",
              "    }\n",
              "\n",
              "    [theme=dark] .colab-df-convert {\n",
              "      background-color: #3B4455;\n",
              "      fill: #D2E3FC;\n",
              "    }\n",
              "\n",
              "    [theme=dark] .colab-df-convert:hover {\n",
              "      background-color: #434B5C;\n",
              "      box-shadow: 0px 1px 3px 1px rgba(0, 0, 0, 0.15);\n",
              "      filter: drop-shadow(0px 1px 2px rgba(0, 0, 0, 0.3));\n",
              "      fill: #FFFFFF;\n",
              "    }\n",
              "  </style>\n",
              "\n",
              "    <script>\n",
              "      const buttonEl =\n",
              "        document.querySelector('#df-3ecf3d3f-80de-4457-897f-d476cdab1083 button.colab-df-convert');\n",
              "      buttonEl.style.display =\n",
              "        google.colab.kernel.accessAllowed ? 'block' : 'none';\n",
              "\n",
              "      async function convertToInteractive(key) {\n",
              "        const element = document.querySelector('#df-3ecf3d3f-80de-4457-897f-d476cdab1083');\n",
              "        const dataTable =\n",
              "          await google.colab.kernel.invokeFunction('convertToInteractive',\n",
              "                                                    [key], {});\n",
              "        if (!dataTable) return;\n",
              "\n",
              "        const docLinkHtml = 'Like what you see? Visit the ' +\n",
              "          '<a target=\"_blank\" href=https://colab.research.google.com/notebooks/data_table.ipynb>data table notebook</a>'\n",
              "          + ' to learn more about interactive tables.';\n",
              "        element.innerHTML = '';\n",
              "        dataTable['output_type'] = 'display_data';\n",
              "        await google.colab.output.renderOutput(dataTable, element);\n",
              "        const docLink = document.createElement('div');\n",
              "        docLink.innerHTML = docLinkHtml;\n",
              "        element.appendChild(docLink);\n",
              "      }\n",
              "    </script>\n",
              "  </div>\n",
              "\n",
              "\n",
              "<div id=\"df-d7867d03-3268-42dc-90f7-e46b4efe730c\">\n",
              "  <button class=\"colab-df-quickchart\" onclick=\"quickchart('df-d7867d03-3268-42dc-90f7-e46b4efe730c')\"\n",
              "            title=\"Suggest charts.\"\n",
              "            style=\"display:none;\">\n",
              "\n",
              "<svg xmlns=\"http://www.w3.org/2000/svg\" height=\"24px\"viewBox=\"0 0 24 24\"\n",
              "     width=\"24px\">\n",
              "    <g>\n",
              "        <path d=\"M19 3H5c-1.1 0-2 .9-2 2v14c0 1.1.9 2 2 2h14c1.1 0 2-.9 2-2V5c0-1.1-.9-2-2-2zM9 17H7v-7h2v7zm4 0h-2V7h2v10zm4 0h-2v-4h2v4z\"/>\n",
              "    </g>\n",
              "</svg>\n",
              "  </button>\n",
              "\n",
              "<style>\n",
              "  .colab-df-quickchart {\n",
              "    background-color: #E8F0FE;\n",
              "    border: none;\n",
              "    border-radius: 50%;\n",
              "    cursor: pointer;\n",
              "    display: none;\n",
              "    fill: #1967D2;\n",
              "    height: 32px;\n",
              "    padding: 0 0 0 0;\n",
              "    width: 32px;\n",
              "  }\n",
              "\n",
              "  .colab-df-quickchart:hover {\n",
              "    background-color: #E2EBFA;\n",
              "    box-shadow: 0px 1px 2px rgba(60, 64, 67, 0.3), 0px 1px 3px 1px rgba(60, 64, 67, 0.15);\n",
              "    fill: #174EA6;\n",
              "  }\n",
              "\n",
              "  [theme=dark] .colab-df-quickchart {\n",
              "    background-color: #3B4455;\n",
              "    fill: #D2E3FC;\n",
              "  }\n",
              "\n",
              "  [theme=dark] .colab-df-quickchart:hover {\n",
              "    background-color: #434B5C;\n",
              "    box-shadow: 0px 1px 3px 1px rgba(0, 0, 0, 0.15);\n",
              "    filter: drop-shadow(0px 1px 2px rgba(0, 0, 0, 0.3));\n",
              "    fill: #FFFFFF;\n",
              "  }\n",
              "</style>\n",
              "\n",
              "  <script>\n",
              "    async function quickchart(key) {\n",
              "      const charts = await google.colab.kernel.invokeFunction(\n",
              "          'suggestCharts', [key], {});\n",
              "    }\n",
              "    (() => {\n",
              "      let quickchartButtonEl =\n",
              "        document.querySelector('#df-d7867d03-3268-42dc-90f7-e46b4efe730c button');\n",
              "      quickchartButtonEl.style.display =\n",
              "        google.colab.kernel.accessAllowed ? 'block' : 'none';\n",
              "    })();\n",
              "  </script>\n",
              "</div>\n",
              "    </div>\n",
              "  </div>\n"
            ]
          },
          "metadata": {},
          "execution_count": 32
        }
      ],
      "source": [
        "df_final.head(500)"
      ]
    },
    {
      "cell_type": "code",
      "source": [
        "df_final.shape"
      ],
      "metadata": {
        "colab": {
          "base_uri": "https://localhost:8080/"
        },
        "id": "YuSuL3dHbN3H",
        "outputId": "915724f4-f289-4877-8373-b1deef262468"
      },
      "id": "YuSuL3dHbN3H",
      "execution_count": 33,
      "outputs": [
        {
          "output_type": "execute_result",
          "data": {
            "text/plain": [
              "(58327370, 15)"
            ]
          },
          "metadata": {},
          "execution_count": 33
        }
      ]
    },
    {
      "cell_type": "code",
      "source": [
        "df_final.dtypes"
      ],
      "metadata": {
        "colab": {
          "base_uri": "https://localhost:8080/"
        },
        "id": "Mck-giEdbYRi",
        "outputId": "1ca66950-3332-44f1-8b26-9fcd73f3cd05"
      },
      "id": "Mck-giEdbYRi",
      "execution_count": 37,
      "outputs": [
        {
          "output_type": "execute_result",
          "data": {
            "text/plain": [
              "id                     object\n",
              "item                   object\n",
              "category               object\n",
              "department             object\n",
              "store                  object\n",
              "store_code             object\n",
              "region                 object\n",
              "d                       int64\n",
              "sold_units              int64\n",
              "date           datetime64[ns]\n",
              "weekday                object\n",
              "weekday_int             int64\n",
              "event                  object\n",
              "yearweek                int64\n",
              "sell_price            float64\n",
              "dtype: object"
            ]
          },
          "metadata": {},
          "execution_count": 37
        }
      ]
    },
    {
      "cell_type": "code",
      "source": [
        "def df_final_func(data, column, count=True):\n",
        "    unique_values = data[column].unique()\n",
        "    null_count = data[column].isnull().sum()\n",
        "    value_counts = data[column].value_counts()\n",
        "\n",
        "    print(f'Quantidade de valores únicos: {len(unique_values)}')\n",
        "    print(f'\\nQuais são os valores únicos: {unique_values}')\n",
        "    print(f'\\nQuantidade de valores nulos: {null_count}')\n",
        "    print(f'\\nQuantidade por opção: \\n{value_counts}')"
      ],
      "metadata": {
        "id": "st2NGiWmiRIY"
      },
      "id": "st2NGiWmiRIY",
      "execution_count": 20,
      "outputs": []
    },
    {
      "cell_type": "code",
      "source": [
        "df_final_func(df_final, 'sell_price')"
      ],
      "metadata": {
        "colab": {
          "base_uri": "https://localhost:8080/"
        },
        "id": "mWDIciC9ikHV",
        "outputId": "21578cd4-9648-4876-e9d4-0f423dbc7a31"
      },
      "id": "mWDIciC9ikHV",
      "execution_count": 36,
      "outputs": [
        {
          "output_type": "stream",
          "name": "stdout",
          "text": [
            "Quantidade de valores únicos: 4165\n",
            "\n",
            "Quais são os valores únicos: [11.03658793  5.27650627  3.94387013 ... 15.91       18.05\n",
            " 34.53      ]\n",
            "\n",
            "Quantidade de valores nulos: 0\n",
            "\n",
            "Quantidade por opção: \n",
            "2.38     1566303\n",
            "3.58     1432370\n",
            "3.00     1246481\n",
            "1.20     1058320\n",
            "4.78     1002713\n",
            "          ...   \n",
            "15.16          7\n",
            "21.51          7\n",
            "1.51           7\n",
            "18.05          1\n",
            "34.53          1\n",
            "Name: sell_price, Length: 4165, dtype: int64\n"
          ]
        }
      ]
    },
    {
      "cell_type": "code",
      "source": [
        "#verificando valores em falta\n",
        "soma_missings_por_coluna = df_final.isnull().sum()\n",
        "soma_missings_por_coluna\n"
      ],
      "metadata": {
        "colab": {
          "base_uri": "https://localhost:8080/"
        },
        "id": "NjEJuG5t4CVF",
        "outputId": "6c5e5813-fc8b-40e3-e146-623d4ec84740"
      },
      "id": "NjEJuG5t4CVF",
      "execution_count": 35,
      "outputs": [
        {
          "output_type": "execute_result",
          "data": {
            "text/plain": [
              "id             0\n",
              "item           0\n",
              "category       0\n",
              "department     0\n",
              "store          0\n",
              "store_code     0\n",
              "region         0\n",
              "d              0\n",
              "sold_units     0\n",
              "date           0\n",
              "weekday        0\n",
              "weekday_int    0\n",
              "event          0\n",
              "yearweek       0\n",
              "sell_price     0\n",
              "dtype: int64"
            ]
          },
          "metadata": {},
          "execution_count": 35
        }
      ]
    },
    {
      "cell_type": "markdown",
      "source": [
        "## Exportar df_final"
      ],
      "metadata": {
        "id": "DgK3n9lkag1x"
      },
      "id": "DgK3n9lkag1x"
    },
    {
      "cell_type": "code",
      "execution_count": 22,
      "id": "PW_G94A_NFSM",
      "metadata": {
        "id": "PW_G94A_NFSM"
      },
      "outputs": [],
      "source": [
        "df_final.to_csv(\"df_final.csv\", index=False)\n"
      ]
    },
    {
      "cell_type": "markdown",
      "id": "5yAGaAUvO536",
      "metadata": {
        "id": "5yAGaAUvO536"
      },
      "source": [
        "# Verificar quais  produtos que não são mais tão populares"
      ]
    },
    {
      "cell_type": "markdown",
      "id": "AyGSXheEO3-o",
      "metadata": {
        "id": "AyGSXheEO3-o"
      },
      "source": []
    },
    {
      "cell_type": "code",
      "execution_count": 16,
      "id": "x1BupNG4O2iW",
      "metadata": {
        "colab": {
          "base_uri": "https://localhost:8080/"
        },
        "id": "x1BupNG4O2iW",
        "outputId": "c73502b4-295b-4937-ae68-297cfba9e91a"
      },
      "outputs": [
        {
          "output_type": "stream",
          "name": "stdout",
          "text": [
            "                     Prev_3_months  Last_3_months  Sales_decline_percent\n",
            "item                                                                    \n",
            "SUPERMARKET_3_441         0.114130       0.000000             100.000000\n",
            "SUPERMARKET_3_444         0.208696       0.000000             100.000000\n",
            "HOME_&_GARDEN_2_108       0.221739       0.001099              99.504417\n",
            "ACCESORIES_1_236          0.634783       0.008791              98.615084\n",
            "HOME_&_GARDEN_2_202       0.079348       0.001099              98.615084\n",
            "...                            ...            ...                    ...\n",
            "ACCESORIES_1_002          0.331522       0.263736              20.446766\n",
            "HOME_&_GARDEN_1_194       1.377174       1.096703              20.365664\n",
            "SUPERMARKET_3_505         3.017391       2.407692              20.206163\n",
            "HOME_&_GARDEN_2_087       0.067391       0.053846              20.099256\n",
            "HOME_&_GARDEN_1_005       1.525000       1.219780              20.014412\n",
            "\n",
            "[290 rows x 3 columns]\n"
          ]
        }
      ],
      "source": [
        "# Transformando a coluna 'date' em datetime\n",
        "df_final['date'] = pd.to_datetime(df_final['date'])\n",
        "\n",
        "# Definindo o período de tempo para os últimos três meses e três meses antes disso\n",
        "end_date = df_final['date'].max()\n",
        "start_date_last_3_months = end_date - pd.DateOffset(months=3)\n",
        "start_date_prev_3_months = start_date_last_3_months - pd.DateOffset(months=3)\n",
        "\n",
        "# Filtrando o DataFrame para os produtos vendidos nos últimos 6 meses\n",
        "last_6_months_sales = df_final[df_final['date'] > start_date_prev_3_months]\n",
        "\n",
        "# Calculando a média de vendas por produto nos últimos três meses e nos três meses anteriores\n",
        "avg_sales_last_3_months = last_6_months_sales[last_6_months_sales['date'] > start_date_last_3_months].groupby('item')['sold_units'].mean()\n",
        "avg_sales_prev_3_months = last_6_months_sales[last_6_months_sales['date'] <= start_date_last_3_months].groupby('item')['sold_units'].mean()\n",
        "\n",
        "# Juntando as duas séries e calculando a diferença percentual\n",
        "sales_comparison = pd.concat([avg_sales_prev_3_months, avg_sales_last_3_months], axis=1, keys=['Prev_3_months', 'Last_3_months'])\n",
        "sales_comparison['Sales_decline_percent'] = ((sales_comparison['Prev_3_months'] - sales_comparison['Last_3_months']) / sales_comparison['Prev_3_months']) * 100\n",
        "\n",
        "# Filtrando produtos que tiveram uma queda de, digamos, mais de 20% nas vendas\n",
        "less_popular_products = sales_comparison[sales_comparison['Sales_decline_percent'] > 20]\n",
        "\n",
        "# Ordenando o DataFrame pelo declínio percentual das vendas de forma descendente\n",
        "less_popular_products_sorted = less_popular_products.sort_values(by='Sales_decline_percent', ascending=False)\n",
        "\n",
        "print(less_popular_products_sorted)\n"
      ]
    },
    {
      "cell_type": "code",
      "execution_count": null,
      "id": "e08UGhHKSC_u",
      "metadata": {
        "id": "e08UGhHKSC_u"
      },
      "outputs": [],
      "source": []
    },
    {
      "cell_type": "markdown",
      "id": "Gh2x67kKSKzR",
      "metadata": {
        "id": "Gh2x67kKSKzR"
      },
      "source": [
        "## Verificar os produtos mais populares entre as cidades"
      ]
    },
    {
      "cell_type": "code",
      "execution_count": null,
      "id": "GO2jNmC1SD8g",
      "metadata": {
        "colab": {
          "base_uri": "https://localhost:8080/"
        },
        "id": "GO2jNmC1SD8g",
        "outputId": "9e9d373d-e3f9-4f86-d794-0e8bdd0dd1bc"
      },
      "outputs": [
        {
          "output_type": "stream",
          "name": "stdout",
          "text": [
            "                   store               item  sold_units\n",
            "2810            Back_Bay  SUPERMARKET_3_586      150122\n",
            "2314            Back_Bay  SUPERMARKET_3_090      114854\n",
            "2476            Back_Bay  SUPERMARKET_3_252       86632\n",
            "2779            Back_Bay  SUPERMARKET_3_555       77673\n",
            "2601            Back_Bay  SUPERMARKET_3_377       73797\n",
            "5363            Brooklyn  SUPERMARKET_3_090       52264\n",
            "5859            Brooklyn  SUPERMARKET_3_586       32557\n",
            "5860            Brooklyn  SUPERMARKET_3_587       24333\n",
            "5525            Brooklyn  SUPERMARKET_3_252       23417\n",
            "6078            Brooklyn  SUPERMARKET_3_808       21282\n",
            "8412   Greenwich_Village  SUPERMARKET_3_090      127203\n",
            "8908   Greenwich_Village  SUPERMARKET_3_586       87691\n",
            "8574   Greenwich_Village  SUPERMARKET_3_252       74971\n",
            "8442   Greenwich_Village  SUPERMARKET_3_120       61899\n",
            "9035   Greenwich_Village  SUPERMARKET_3_714       54080\n",
            "11957             Harlem  SUPERMARKET_3_586       63416\n",
            "11623             Harlem  SUPERMARKET_3_252       57328\n",
            "11461             Harlem  SUPERMARKET_3_090       56169\n",
            "11926             Harlem  SUPERMARKET_3_555       31001\n",
            "10973             Harlem  SUPERMARKET_1_218       28845\n",
            "14646    Midtown_Village  SUPERMARKET_3_226       78993\n",
            "15114    Midtown_Village  SUPERMARKET_3_694       41228\n",
            "14510    Midtown_Village  SUPERMARKET_3_090       34852\n",
            "15006    Midtown_Village  SUPERMARKET_3_586       32119\n",
            "15133    Midtown_Village  SUPERMARKET_3_714       30980\n",
            "17559      Queen_Village  SUPERMARKET_3_090      121434\n",
            "17695      Queen_Village  SUPERMARKET_3_226       98227\n",
            "18055      Queen_Village  SUPERMARKET_3_586       86080\n",
            "18163      Queen_Village  SUPERMARKET_3_694       85633\n",
            "18024      Queen_Village  SUPERMARKET_3_555       57969\n",
            "21104            Roxbury  SUPERMARKET_3_586      192835\n",
            "20608            Roxbury  SUPERMARKET_3_090      119496\n",
            "20770            Roxbury  SUPERMARKET_3_252      114153\n",
            "21073            Roxbury  SUPERMARKET_3_555       97496\n",
            "20895            Roxbury  SUPERMARKET_3_377       63174\n",
            "24153          South_End  SUPERMARKET_3_586      112454\n",
            "23657          South_End  SUPERMARKET_3_090       93684\n",
            "24122          South_End  SUPERMARKET_3_555       69516\n",
            "23819          South_End  SUPERMARKET_3_252       56294\n",
            "24154          South_End  SUPERMARKET_3_587       48277\n",
            "26706            Tribeca  SUPERMARKET_3_090      250502\n",
            "27202            Tribeca  SUPERMARKET_3_586      134386\n",
            "26736            Tribeca  SUPERMARKET_3_120       88795\n",
            "26868            Tribeca  SUPERMARKET_3_252       81456\n",
            "27157            Tribeca  SUPERMARKET_3_541       80491\n",
            "29891           Yorktown  SUPERMARKET_3_226       69966\n",
            "30359           Yorktown  SUPERMARKET_3_694       59235\n",
            "29673           Yorktown  SUPERMARKET_3_007       52020\n",
            "29899           Yorktown  SUPERMARKET_3_234       50043\n",
            "29627           Yorktown  SUPERMARKET_2_360       48043\n"
          ]
        }
      ],
      "source": [
        "N = 5\n",
        "\n",
        "# Agrupando por loja, produto e somando as vendas\n",
        "store_product_sales = df_final.groupby(['store', 'item'])['sold_units'].sum().reset_index()\n",
        "\n",
        "# Lista para armazenar os produtos mais populares por loja\n",
        "top_products_list = []\n",
        "\n",
        "for store in store_product_sales['store'].unique():\n",
        "    store_sales = store_product_sales[store_product_sales['store'] == store]\n",
        "\n",
        "    # Ordenando os produtos por vendas e pegando os top N produtos mais populares\n",
        "    top_products = store_sales.sort_values(by='sold_units', ascending=False).head(N)\n",
        "\n",
        "    top_products_list.append(top_products)\n",
        "\n",
        "# Concatenando os resultados para criar o DataFrame final\n",
        "top_products_per_store = pd.concat(top_products_list, axis=0)\n",
        "\n",
        "print(top_products_per_store[['store', 'item', 'sold_units']])\n",
        "\n",
        "\n"
      ]
    },
    {
      "cell_type": "markdown",
      "source": [
        "## Verifivar os produtos mais populares entre as lojas, levando em conta que os preços desses produtos podem ser diferentes de uma loja para outra."
      ],
      "metadata": {
        "id": "X5BBSiAgeW13"
      },
      "id": "X5BBSiAgeW13"
    },
    {
      "cell_type": "code",
      "source": [
        "print(\"Colunas em df_final:\", df_final.columns)\n",
        "print(\"Colunas em df_prices:\", df_prices.columns)\n"
      ],
      "metadata": {
        "colab": {
          "base_uri": "https://localhost:8080/"
        },
        "id": "_h8QKJaPfDbj",
        "outputId": "56056bc1-5fd9-4065-d6ee-056b09db806d"
      },
      "id": "_h8QKJaPfDbj",
      "execution_count": null,
      "outputs": [
        {
          "output_type": "stream",
          "name": "stdout",
          "text": [
            "Colunas em df_final: Index(['id', 'item', 'category_x', 'department', 'store', 'store_code',\n",
            "       'region', 'd', 'sold_units', 'date', 'weekday', 'weekday_int', 'event',\n",
            "       'yearweek', 'category_y', 'sell_price'],\n",
            "      dtype='object')\n",
            "Colunas em df_prices: Index(['item', 'category', 'store_code', 'yearweek', 'sell_price'], dtype='object')\n"
          ]
        }
      ]
    },
    {
      "cell_type": "code",
      "source": [
        "# Juntando o df_final com os preços\n",
        "df_merged = pd.merge(df_final, df_prices, on=['store_code', 'item', 'yearweek'], how='left')\n",
        "\n",
        "# Calculando o faturamento\n",
        "df_merged['revenue'] = df_merged['sold_units'] * df_merged['sell_price']\n",
        "\n",
        "# Agrupando por loja e produto e somando as vendas e receita\n",
        "store_product_sales_revenue = df_merged.groupby(['store', 'item']).agg({'sold_units': 'sum', 'revenue': 'sum'}).reset_index()\n",
        "\n",
        "# Identificar os produtos mais populares globalmente (em todas as lojas)\n",
        "global_top_products = store_product_sales_revenue.groupby('item').agg({'sold_units': 'sum', 'revenue': 'sum'}).sort_values(by='sold_units', ascending=False).head(N)\n",
        "\n",
        "# Para os produtos mais populares, vamos verificar os preços em diferentes lojas\n",
        "popular_products = global_top_products['item'].tolist()\n",
        "price_comparison = df_prices[df_prices['item'].isin(popular_products)]\n"
      ],
      "metadata": {
        "id": "ZEK_fKDEeZBO",
        "colab": {
          "base_uri": "https://localhost:8080/",
          "height": 538
        },
        "outputId": "6a2433a6-c214-4167-95f2-eb452b75789d"
      },
      "id": "ZEK_fKDEeZBO",
      "execution_count": 23,
      "outputs": [
        {
          "output_type": "error",
          "ename": "KeyError",
          "evalue": "ignored",
          "traceback": [
            "\u001b[0;31m---------------------------------------------------------------------------\u001b[0m",
            "\u001b[0;31mKeyError\u001b[0m                                  Traceback (most recent call last)",
            "\u001b[0;32m/usr/local/lib/python3.10/dist-packages/pandas/core/indexes/base.py\u001b[0m in \u001b[0;36mget_loc\u001b[0;34m(self, key, method, tolerance)\u001b[0m\n\u001b[1;32m   3801\u001b[0m             \u001b[0;32mtry\u001b[0m\u001b[0;34m:\u001b[0m\u001b[0;34m\u001b[0m\u001b[0;34m\u001b[0m\u001b[0m\n\u001b[0;32m-> 3802\u001b[0;31m                 \u001b[0;32mreturn\u001b[0m \u001b[0mself\u001b[0m\u001b[0;34m.\u001b[0m\u001b[0m_engine\u001b[0m\u001b[0;34m.\u001b[0m\u001b[0mget_loc\u001b[0m\u001b[0;34m(\u001b[0m\u001b[0mcasted_key\u001b[0m\u001b[0;34m)\u001b[0m\u001b[0;34m\u001b[0m\u001b[0;34m\u001b[0m\u001b[0m\n\u001b[0m\u001b[1;32m   3803\u001b[0m             \u001b[0;32mexcept\u001b[0m \u001b[0mKeyError\u001b[0m \u001b[0;32mas\u001b[0m \u001b[0merr\u001b[0m\u001b[0;34m:\u001b[0m\u001b[0;34m\u001b[0m\u001b[0;34m\u001b[0m\u001b[0m\n",
            "\u001b[0;32m/usr/local/lib/python3.10/dist-packages/pandas/_libs/index.pyx\u001b[0m in \u001b[0;36mpandas._libs.index.IndexEngine.get_loc\u001b[0;34m()\u001b[0m\n",
            "\u001b[0;32m/usr/local/lib/python3.10/dist-packages/pandas/_libs/index.pyx\u001b[0m in \u001b[0;36mpandas._libs.index.IndexEngine.get_loc\u001b[0;34m()\u001b[0m\n",
            "\u001b[0;32mpandas/_libs/hashtable_class_helper.pxi\u001b[0m in \u001b[0;36mpandas._libs.hashtable.PyObjectHashTable.get_item\u001b[0;34m()\u001b[0m\n",
            "\u001b[0;32mpandas/_libs/hashtable_class_helper.pxi\u001b[0m in \u001b[0;36mpandas._libs.hashtable.PyObjectHashTable.get_item\u001b[0;34m()\u001b[0m\n",
            "\u001b[0;31mKeyError\u001b[0m: 'price'",
            "\nThe above exception was the direct cause of the following exception:\n",
            "\u001b[0;31mKeyError\u001b[0m                                  Traceback (most recent call last)",
            "\u001b[0;32m<ipython-input-23-073f387ae493>\u001b[0m in \u001b[0;36m<cell line: 5>\u001b[0;34m()\u001b[0m\n\u001b[1;32m      3\u001b[0m \u001b[0;34m\u001b[0m\u001b[0m\n\u001b[1;32m      4\u001b[0m \u001b[0;31m# Calculando o faturamento\u001b[0m\u001b[0;34m\u001b[0m\u001b[0;34m\u001b[0m\u001b[0m\n\u001b[0;32m----> 5\u001b[0;31m \u001b[0mdf_merged\u001b[0m\u001b[0;34m[\u001b[0m\u001b[0;34m'revenue'\u001b[0m\u001b[0;34m]\u001b[0m \u001b[0;34m=\u001b[0m \u001b[0mdf_merged\u001b[0m\u001b[0;34m[\u001b[0m\u001b[0;34m'sold_units'\u001b[0m\u001b[0;34m]\u001b[0m \u001b[0;34m*\u001b[0m \u001b[0mdf_merged\u001b[0m\u001b[0;34m[\u001b[0m\u001b[0;34m'price'\u001b[0m\u001b[0;34m]\u001b[0m\u001b[0;34m\u001b[0m\u001b[0;34m\u001b[0m\u001b[0m\n\u001b[0m\u001b[1;32m      6\u001b[0m \u001b[0;34m\u001b[0m\u001b[0m\n\u001b[1;32m      7\u001b[0m \u001b[0;31m# Agrupando por loja e produto e somando as vendas e receita\u001b[0m\u001b[0;34m\u001b[0m\u001b[0;34m\u001b[0m\u001b[0m\n",
            "\u001b[0;32m/usr/local/lib/python3.10/dist-packages/pandas/core/frame.py\u001b[0m in \u001b[0;36m__getitem__\u001b[0;34m(self, key)\u001b[0m\n\u001b[1;32m   3805\u001b[0m             \u001b[0;32mif\u001b[0m \u001b[0mself\u001b[0m\u001b[0;34m.\u001b[0m\u001b[0mcolumns\u001b[0m\u001b[0;34m.\u001b[0m\u001b[0mnlevels\u001b[0m \u001b[0;34m>\u001b[0m \u001b[0;36m1\u001b[0m\u001b[0;34m:\u001b[0m\u001b[0;34m\u001b[0m\u001b[0;34m\u001b[0m\u001b[0m\n\u001b[1;32m   3806\u001b[0m                 \u001b[0;32mreturn\u001b[0m \u001b[0mself\u001b[0m\u001b[0;34m.\u001b[0m\u001b[0m_getitem_multilevel\u001b[0m\u001b[0;34m(\u001b[0m\u001b[0mkey\u001b[0m\u001b[0;34m)\u001b[0m\u001b[0;34m\u001b[0m\u001b[0;34m\u001b[0m\u001b[0m\n\u001b[0;32m-> 3807\u001b[0;31m             \u001b[0mindexer\u001b[0m \u001b[0;34m=\u001b[0m \u001b[0mself\u001b[0m\u001b[0;34m.\u001b[0m\u001b[0mcolumns\u001b[0m\u001b[0;34m.\u001b[0m\u001b[0mget_loc\u001b[0m\u001b[0;34m(\u001b[0m\u001b[0mkey\u001b[0m\u001b[0;34m)\u001b[0m\u001b[0;34m\u001b[0m\u001b[0;34m\u001b[0m\u001b[0m\n\u001b[0m\u001b[1;32m   3808\u001b[0m             \u001b[0;32mif\u001b[0m \u001b[0mis_integer\u001b[0m\u001b[0;34m(\u001b[0m\u001b[0mindexer\u001b[0m\u001b[0;34m)\u001b[0m\u001b[0;34m:\u001b[0m\u001b[0;34m\u001b[0m\u001b[0;34m\u001b[0m\u001b[0m\n\u001b[1;32m   3809\u001b[0m                 \u001b[0mindexer\u001b[0m \u001b[0;34m=\u001b[0m \u001b[0;34m[\u001b[0m\u001b[0mindexer\u001b[0m\u001b[0;34m]\u001b[0m\u001b[0;34m\u001b[0m\u001b[0;34m\u001b[0m\u001b[0m\n",
            "\u001b[0;32m/usr/local/lib/python3.10/dist-packages/pandas/core/indexes/base.py\u001b[0m in \u001b[0;36mget_loc\u001b[0;34m(self, key, method, tolerance)\u001b[0m\n\u001b[1;32m   3802\u001b[0m                 \u001b[0;32mreturn\u001b[0m \u001b[0mself\u001b[0m\u001b[0;34m.\u001b[0m\u001b[0m_engine\u001b[0m\u001b[0;34m.\u001b[0m\u001b[0mget_loc\u001b[0m\u001b[0;34m(\u001b[0m\u001b[0mcasted_key\u001b[0m\u001b[0;34m)\u001b[0m\u001b[0;34m\u001b[0m\u001b[0;34m\u001b[0m\u001b[0m\n\u001b[1;32m   3803\u001b[0m             \u001b[0;32mexcept\u001b[0m \u001b[0mKeyError\u001b[0m \u001b[0;32mas\u001b[0m \u001b[0merr\u001b[0m\u001b[0;34m:\u001b[0m\u001b[0;34m\u001b[0m\u001b[0;34m\u001b[0m\u001b[0m\n\u001b[0;32m-> 3804\u001b[0;31m                 \u001b[0;32mraise\u001b[0m \u001b[0mKeyError\u001b[0m\u001b[0;34m(\u001b[0m\u001b[0mkey\u001b[0m\u001b[0;34m)\u001b[0m \u001b[0;32mfrom\u001b[0m \u001b[0merr\u001b[0m\u001b[0;34m\u001b[0m\u001b[0;34m\u001b[0m\u001b[0m\n\u001b[0m\u001b[1;32m   3805\u001b[0m             \u001b[0;32mexcept\u001b[0m \u001b[0mTypeError\u001b[0m\u001b[0;34m:\u001b[0m\u001b[0;34m\u001b[0m\u001b[0;34m\u001b[0m\u001b[0m\n\u001b[1;32m   3806\u001b[0m                 \u001b[0;31m# If we have a listlike key, _check_indexing_error will raise\u001b[0m\u001b[0;34m\u001b[0m\u001b[0;34m\u001b[0m\u001b[0m\n",
            "\u001b[0;31mKeyError\u001b[0m: 'price'"
          ]
        }
      ]
    },
    {
      "cell_type": "code",
      "execution_count": null,
      "id": "36b07ed9-d553-4fdc-95e4-d6460c9e56fa",
      "metadata": {
        "colab": {
          "base_uri": "https://localhost:8080/"
        },
        "id": "36b07ed9-d553-4fdc-95e4-d6460c9e56fa",
        "outputId": "6252ef51-af8b-4bd9-86f8-fcfdac115333"
      },
      "outputs": [
        {
          "output_type": "stream",
          "name": "stdout",
          "text": [
            "<class 'pandas.core.frame.DataFrame'>\n",
            "Int64Index: 58327370 entries, 0 to 2916377\n",
            "Data columns (total 16 columns):\n",
            " #   Column       Dtype         \n",
            "---  ------       -----         \n",
            " 0   id           object        \n",
            " 1   item         object        \n",
            " 2   category_x   object        \n",
            " 3   department   object        \n",
            " 4   store        object        \n",
            " 5   store_code   object        \n",
            " 6   region       object        \n",
            " 7   d            int64         \n",
            " 8   sold_units   int64         \n",
            " 9   date         datetime64[ns]\n",
            " 10  weekday      object        \n",
            " 11  weekday_int  int64         \n",
            " 12  event        object        \n",
            " 13  yearweek     int64         \n",
            " 14  category_y   object        \n",
            " 15  sell_price   float64       \n",
            "dtypes: datetime64[ns](1), float64(1), int64(4), object(10)\n",
            "memory usage: 7.4+ GB\n"
          ]
        }
      ],
      "source": [
        "df_final.info()"
      ]
    },
    {
      "cell_type": "code",
      "source": [],
      "metadata": {
        "id": "uZCPdxHrTgU2"
      },
      "id": "uZCPdxHrTgU2",
      "execution_count": null,
      "outputs": []
    }
  ],
  "metadata": {
    "colab": {
      "gpuType": "A100",
      "machine_shape": "hm",
      "provenance": [],
      "include_colab_link": true
    },
    "kernelspec": {
      "display_name": "Python 3",
      "name": "python3"
    },
    "language_info": {
      "codemirror_mode": {
        "name": "ipython",
        "version": 3
      },
      "file_extension": ".py",
      "mimetype": "text/x-python",
      "name": "python",
      "nbconvert_exporter": "python",
      "pygments_lexer": "ipython3",
      "version": "3.9.17"
    },
    "toc-autonumbering": false,
    "toc-showcode": false,
    "toc-showmarkdowntxt": false,
    "accelerator": "GPU"
  },
  "nbformat": 4,
  "nbformat_minor": 5
}